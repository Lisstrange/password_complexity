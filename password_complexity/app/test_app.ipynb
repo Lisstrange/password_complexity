{
 "metadata": {
  "language_info": {
   "codemirror_mode": {
    "name": "ipython",
    "version": 3
   },
   "file_extension": ".py",
   "mimetype": "text/x-python",
   "name": "python",
   "nbconvert_exporter": "python",
   "pygments_lexer": "ipython3",
   "version": "3.9.6"
  },
  "orig_nbformat": 4,
  "kernelspec": {
   "name": "python3",
   "display_name": "Python 3.9.6 64-bit ('password_comp': pyenv)"
  },
  "interpreter": {
   "hash": "1046a3745d5d25f8151bcd194784bdfcfb088ed10efe75dc18a320f117bc9e52"
  }
 },
 "nbformat": 4,
 "nbformat_minor": 2,
 "cells": [
  {
   "cell_type": "code",
   "execution_count": 7,
   "metadata": {},
   "outputs": [
    {
     "output_type": "stream",
     "name": "stdout",
     "text": [
      "текущий путь /home/nikita/My_github/password_comp/password_complexity/app\n",
      "\n",
      "\n",
      "путь к файлу со всеми путями /home/nikita/My_github/password_comp/CONFIG_PATH.yaml\n",
      "\n",
      "\n",
      "{'base': {'random_state': 42, 'log_level': 'DEBUG'}, 'make_dataset': {'train_dataset': 'data/train.csv', 'test_dataset': 'data/Xtest.csv', 'train_features_interim': 'data/interim/train_features.feather', 'train_target_processed': 'data/processed/train_target.feather', 'test_features_interim': 'data/interim/test_features.feather'}, 'build_features': {'train_features_processed': 'data/processed/train_features.feather', 'test_features_processed': 'data/processed/test_features.feather'}, 'train_model': {'model_path': 'models/model_config.joblib'}}\n",
      "Pipeline(steps=[('transform',\n",
      "                 ColumnTransformer(transformers=[('num',\n",
      "                                                  Pipeline(steps=[('imputer',\n",
      "                                                                   SimpleImputer()),\n",
      "                                                                  ('scaler',\n",
      "                                                                   StandardScaler())]),\n",
      "                                                  Index(['password_length', 'unique_chars_count', 'unique_chars_prop',\n",
      "       'is_alnum', 'is_alpha', 'is_lower', 'is_upper', 'is_numeric',\n",
      "       'letters_count', 'letters_prob', 'difits_count', 'digits_prob',\n",
      "       'is_lower_and_upper', 'palindrom'],\n",
      "      dtype='object')),\n",
      "                                                 ('cat',\n",
      "                                                  Pipeline(steps=[('imputer',\n",
      "                                                                   SimpleImputer()),\n",
      "                                                                  ('feature_encoding',\n",
      "                                                                   OneHotEncoder(handle_unknown='ignore',\n",
      "                                                                                 sparse=False))]),\n",
      "                                                  Index([], dtype='object'))])),\n",
      "                ('linear', LinearRegression(normalize=True, positive=True))])\n"
     ]
    }
   ],
   "source": [
    "import pandas as pd\n",
    "import numpy as np\n",
    "import box\n",
    "import joblib\n",
    "\n",
    "from password_complexity.features.generate import generate_features\n",
    "from password_complexity.utils.config import load_config\n",
    "from password_complexity.metrics.metrics import rmsle_score, RMSLE_score, RMSLE\n",
    "\n",
    "from sklearn.linear_model import LinearRegression\n",
    "from sklearn.pipeline import Pipeline\n",
    "\n",
    "from flask import Flask, request, render_template\n",
    "\n",
    "import os\n",
    "from pathlib import Path\n",
    "\n",
    "print('текущий путь',os.path.abspath(''))\n",
    "print()\n",
    "print()\n",
    "config_path=Path.cwd().parent.parent.joinpath('').joinpath('CONFIG_PATH.yaml')\n",
    "print('путь к файлу со всеми путями',config_path)\n",
    "print()\n",
    "print()\n",
    "config_=load_config(config_path)\n",
    "print(config_)\n",
    "model=joblib.load('../../'+config_.train_model.model_path)\n",
    "print(model)"
   ]
  },
  {
   "cell_type": "code",
   "execution_count": null,
   "metadata": {},
   "outputs": [],
   "source": []
  }
 ]
}