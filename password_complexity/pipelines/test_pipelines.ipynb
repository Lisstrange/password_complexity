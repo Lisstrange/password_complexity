{
 "cells": [
  {
   "cell_type": "code",
   "execution_count": 1,
   "source": [
    "'''\n",
    "Train pipeline and save best result\n",
    "'''\n",
    "##### Add arguments #####\n",
    "import argparse\n",
    "#########################\n",
    "\n",
    "##### custom lib and metrics #####\n",
    "from password_complexity.metrics.metrics import rmsle_score, RMSLE_score, RMSLE\n",
    "from password_complexity.features.generate import generate_features\n",
    "from password_complexity.utils.config import load_config\n",
    "from password_complexity.metrics.metrics import *\n",
    "from password_complexity.utils.hyperparameters import params_distribution\n",
    "from password_complexity.utils.pipeline_structure import create_pipeline_structure\n",
    "#################################\n",
    "\n",
    "##### Preprocessing #####\n",
    "from sklearn.impute import SimpleImputer\n",
    "from sklearn.preprocessing import StandardScaler\n",
    "from sklearn.preprocessing import OneHotEncoder\n",
    "#########################\n",
    "\n",
    "##### Path lib #####\n",
    "import os\n",
    "from pathlib import Path\n",
    "import joblib\n",
    "####################\n",
    "\n",
    "##### dataset instruments #####\n",
    "import pandas as pd\n",
    "from sklearn.model_selection import train_test_split\n",
    "###############################\n",
    "\n",
    "##### Model structure #####\n",
    "from sklearn.pipeline import Pipeline\n",
    "from sklearn.compose import ColumnTransformer\n",
    "###########################\n",
    "\n",
    "##### Models #####\n",
    "from sklearn.linear_model import LinearRegression\n",
    "##################\n",
    "\n",
    "##### hyperparams optimize #####\n",
    "import optuna\n",
    "from optuna.integration import OptunaSearchCV\n",
    "from optuna.distributions import *\n",
    "################################"
   ],
   "outputs": [],
   "metadata": {}
  },
  {
   "cell_type": "code",
   "execution_count": 2,
   "source": [
    "\n",
    "config_ = load_config('../../CONFIG_PATH.yaml')\n",
    "print('загружаем конфиг', config_)\n",
    "df=pd.read_csv('../../'+config_.make_dataset.train_dataset)\n",
    "\n",
    "df=generate_features(df)\n",
    "print('читаем датасет и генерим фичи')\n",
    "\n"
   ],
   "outputs": [
    {
     "output_type": "stream",
     "name": "stdout",
     "text": [
      "загружаем конфиг {'base': {'random_state': 42, 'log_level': 'DEBUG'}, 'make_dataset': {'train_dataset': 'data/train.csv', 'test_dataset': 'data/Xtest.csv', 'train_features_interim': 'data/interim/train_features.feather', 'train_target_processed': 'data/processed/train_target.feather', 'test_features_interim': 'data/interim/test_features.feather'}, 'build_features': {'train_features_processed': 'data/processed/train_features.feather', 'test_features_processed': 'data/processed/test_features.feather'}, 'train_model': {'model_path': 'models/model_config.joblib', 'train_size': 0.67}}\n",
      "читаем датасет и генерим фичи\n"
     ]
    }
   ],
   "metadata": {}
  },
  {
   "cell_type": "code",
   "execution_count": 3,
   "source": [
    "y = df['Times']\n",
    "X = df.drop('Times', axis=1)\n",
    "print('разбиваем на таргет и лейбл')"
   ],
   "outputs": [
    {
     "output_type": "stream",
     "name": "stdout",
     "text": [
      "разбиваем на таргет и лейбл\n"
     ]
    }
   ],
   "metadata": {}
  },
  {
   "cell_type": "code",
   "execution_count": 4,
   "source": [
    "X_train, X_test, y_train, y_test = train_test_split(\n",
    "                                                    X,y, \n",
    "                                                    train_size=config_.train_model.train_size, \n",
    "                                                    random_state=config_.base.random_state\n",
    "                                                    )\n",
    "print('разбиваем на обучение и тест', X_train.shape, X_test.shape)"
   ],
   "outputs": [
    {
     "output_type": "stream",
     "name": "stdout",
     "text": [
      "разбиваем на обучение и тест (2781502, 14) (1369994, 14)\n"
     ]
    }
   ],
   "metadata": {}
  },
  {
   "cell_type": "code",
   "execution_count": 5,
   "source": [
    "# model = joblib.load('../../'+config_.train_model.model_path)\n",
    "# импортируем старую модель\n",
    "print('импортирем старую модель')\n",
    "\n",
    "## Создаем списки коннилчественных\n",
    "## и категориальных столбцов\n",
    "cat_columns = X_train.dtypes[X_train.dtypes == 'object'].index\n",
    "num_columns = X_train.dtypes[X_train.dtypes != 'object'].index\n",
    "\n",
    "pipe = create_pipeline_structure(num_columns, cat_columns)\n",
    "print('Создаем пайплайн для обучения', pipe)"
   ],
   "outputs": [
    {
     "output_type": "stream",
     "name": "stdout",
     "text": [
      "импортирем старую модель\n",
      "Создаем пайплайн для обучения Pipeline(steps=[('transform',\n",
      "                 ColumnTransformer(transformers=[('num',\n",
      "                                                  Pipeline(steps=[('imputer',\n",
      "                                                                   SimpleImputer()),\n",
      "                                                                  ('scaler',\n",
      "                                                                   StandardScaler())]),\n",
      "                                                  Index(['password_length', 'unique_chars_count', 'unique_chars_prop',\n",
      "       'is_alnum', 'is_alpha', 'is_lower', 'is_upper', 'is_numeric',\n",
      "       'letters_count', 'letters_prob', 'difits_count', 'digits_prob',\n",
      "       'is_lower_and_upper', 'palindrom'],\n",
      "      dtype='object')),\n",
      "                                                 ('cat',\n",
      "                                                  Pipeline(steps=[('imputer',\n",
      "                                                                   SimpleImputer()),\n",
      "                                                                  ('feature_encoding',\n",
      "                                                                   OneHotEncoder(handle_unknown='ignore',\n",
      "                                                                                 sparse=False))]),\n",
      "                                                  Index([], dtype='object'))])),\n",
      "                ('regressor', RandomForestRegressor())])\n"
     ]
    }
   ],
   "metadata": {}
  },
  {
   "cell_type": "code",
   "execution_count": 8,
   "source": [
    "optuna_search = OptunaSearchCV(\n",
    "                            pipe,\n",
    "                            params_distribution,\n",
    "                            scoring=RMSLE_score,\n",
    "                            random_state=config_.base.random_state,\n",
    "                            n_trials=10,\n",
    "                            verbose=1,\n",
    "                            cv=5\n",
    "                            )"
   ],
   "outputs": [
    {
     "output_type": "stream",
     "name": "stderr",
     "text": [
      "/tmp/ipykernel_114782/3981927596.py:1: ExperimentalWarning: OptunaSearchCV is experimental (supported from v0.17.0). The interface can change in the future.\n",
      "  optuna_search = OptunaSearchCV(\n"
     ]
    }
   ],
   "metadata": {}
  },
  {
   "cell_type": "code",
   "execution_count": 10,
   "source": [
    "optuna_search.fit(X_train.iloc[1660:1765], y_train.iloc[1660:1765])\n"
   ],
   "outputs": [
    {
     "output_type": "stream",
     "name": "stderr",
     "text": [
      "/home/nikita/.pyenv/versions/3.9.6/envs/password_comp/lib/python3.9/site-packages/sklearn/utils/validation.py:70: FutureWarning: Pass classifier=False as keyword args. From version 1.0 (renaming of 0.25) passing these as positional arguments will result in an error\n",
      "  warnings.warn(f\"Pass {args_msg} as keyword args. From version \"\n",
      "\u001b[32m[I 2021-09-16 19:59:39,096]\u001b[0m A new study created in memory with name: no-name-547cbc55-00b4-4552-821b-ad074daf39cd\u001b[0m\n",
      "\u001b[32m[I 2021-09-16 19:59:39,097]\u001b[0m Searching the best hyperparameters using 105 samples...\u001b[0m\n",
      "\u001b[32m[I 2021-09-16 19:59:39,958]\u001b[0m Trial 0 finished with value: -0.851147435192255 and parameters: {'transform__cat__imputer__strategy': 'median'}. Best is trial 0 with value: -0.851147435192255.\u001b[0m\n",
      "\u001b[32m[I 2021-09-16 19:59:40,923]\u001b[0m Trial 1 finished with value: -0.821809387357084 and parameters: {'transform__cat__imputer__strategy': 'median'}. Best is trial 1 with value: -0.821809387357084.\u001b[0m\n",
      "\u001b[32m[I 2021-09-16 19:59:42,024]\u001b[0m Trial 2 finished with value: -0.8401375381139833 and parameters: {'transform__cat__imputer__strategy': 'mean'}. Best is trial 1 with value: -0.821809387357084.\u001b[0m\n",
      "\u001b[32m[I 2021-09-16 19:59:43,282]\u001b[0m Trial 3 finished with value: -0.820167606596684 and parameters: {'transform__cat__imputer__strategy': 'mean'}. Best is trial 3 with value: -0.820167606596684.\u001b[0m\n",
      "\u001b[32m[I 2021-09-16 19:59:44,274]\u001b[0m Trial 4 finished with value: -0.8214330313639964 and parameters: {'transform__cat__imputer__strategy': 'median'}. Best is trial 3 with value: -0.820167606596684.\u001b[0m\n",
      "\u001b[32m[I 2021-09-16 19:59:45,530]\u001b[0m Trial 5 finished with value: -0.8276734470141145 and parameters: {'transform__cat__imputer__strategy': 'median'}. Best is trial 3 with value: -0.820167606596684.\u001b[0m\n",
      "\u001b[32m[I 2021-09-16 19:59:46,490]\u001b[0m Trial 6 finished with value: -0.8085549441487709 and parameters: {'transform__cat__imputer__strategy': 'mean'}. Best is trial 6 with value: -0.8085549441487709.\u001b[0m\n",
      "\u001b[32m[I 2021-09-16 19:59:47,289]\u001b[0m Trial 7 finished with value: -0.8362684325460323 and parameters: {'transform__cat__imputer__strategy': 'median'}. Best is trial 6 with value: -0.8085549441487709.\u001b[0m\n",
      "\u001b[32m[I 2021-09-16 19:59:48,082]\u001b[0m Trial 8 finished with value: -0.8169895728504869 and parameters: {'transform__cat__imputer__strategy': 'median'}. Best is trial 6 with value: -0.8085549441487709.\u001b[0m\n",
      "\u001b[32m[I 2021-09-16 19:59:49,074]\u001b[0m Trial 9 finished with value: -0.8374719785333375 and parameters: {'transform__cat__imputer__strategy': 'median'}. Best is trial 6 with value: -0.8085549441487709.\u001b[0m\n",
      "\u001b[32m[I 2021-09-16 19:59:49,075]\u001b[0m Finished hyperparemeter search!\u001b[0m\n",
      "\u001b[32m[I 2021-09-16 19:59:49,079]\u001b[0m Refitting the estimator using 105 samples...\u001b[0m\n",
      "\u001b[32m[I 2021-09-16 19:59:49,283]\u001b[0m Finished refitting! (elapsed time: 0.202 sec.)\u001b[0m\n"
     ]
    },
    {
     "output_type": "execute_result",
     "data": {
      "text/plain": [
       "OptunaSearchCV(estimator=Pipeline(steps=[('transform',\n",
       "                                          ColumnTransformer(transformers=[('num',\n",
       "                                                                           Pipeline(steps=[('imputer',\n",
       "                                                                                            SimpleImputer()),\n",
       "                                                                                           ('scaler',\n",
       "                                                                                            StandardScaler())]),\n",
       "                                                                           Index(['password_length', 'unique_chars_count', 'unique_chars_prop',\n",
       "       'is_alnum', 'is_alpha', 'is_lower', 'is_upper', 'is_numeric',\n",
       "       'letters_count', 'letters_prob', 'difits_count', 'digits_prob',...\n",
       "                                                                           Pipeline(steps=[('imputer',\n",
       "                                                                                            SimpleImputer()),\n",
       "                                                                                           ('feature_encoding',\n",
       "                                                                                            OneHotEncoder(handle_unknown='ignore',\n",
       "                                                                                                          sparse=False))]),\n",
       "                                                                           Index([], dtype='object'))])),\n",
       "                                         ('regressor',\n",
       "                                          RandomForestRegressor())]),\n",
       "               param_distributions={'transform__cat__imputer__strategy': CategoricalDistribution(choices=('mean', 'median'))},\n",
       "               random_state=42,\n",
       "               scoring=make_scorer(RMSLE, greater_is_better=False), verbose=1)"
      ]
     },
     "metadata": {},
     "execution_count": 10
    }
   ],
   "metadata": {}
  },
  {
   "cell_type": "code",
   "execution_count": 16,
   "source": [
    "X_train.iloc[1655:1665]"
   ],
   "outputs": [
    {
     "output_type": "execute_result",
     "data": {
      "text/html": [
       "<div>\n",
       "<style scoped>\n",
       "    .dataframe tbody tr th:only-of-type {\n",
       "        vertical-align: middle;\n",
       "    }\n",
       "\n",
       "    .dataframe tbody tr th {\n",
       "        vertical-align: top;\n",
       "    }\n",
       "\n",
       "    .dataframe thead th {\n",
       "        text-align: right;\n",
       "    }\n",
       "</style>\n",
       "<table border=\"1\" class=\"dataframe\">\n",
       "  <thead>\n",
       "    <tr style=\"text-align: right;\">\n",
       "      <th></th>\n",
       "      <th>password_length</th>\n",
       "      <th>unique_chars_count</th>\n",
       "      <th>unique_chars_prop</th>\n",
       "      <th>is_alnum</th>\n",
       "      <th>is_alpha</th>\n",
       "      <th>is_lower</th>\n",
       "      <th>is_upper</th>\n",
       "      <th>is_numeric</th>\n",
       "      <th>letters_count</th>\n",
       "      <th>letters_prob</th>\n",
       "      <th>difits_count</th>\n",
       "      <th>digits_prob</th>\n",
       "      <th>is_lower_and_upper</th>\n",
       "      <th>palindrom</th>\n",
       "    </tr>\n",
       "  </thead>\n",
       "  <tbody>\n",
       "    <tr>\n",
       "      <th>2023443</th>\n",
       "      <td>8</td>\n",
       "      <td>7</td>\n",
       "      <td>0.875000</td>\n",
       "      <td>1</td>\n",
       "      <td>1</td>\n",
       "      <td>1</td>\n",
       "      <td>0</td>\n",
       "      <td>0</td>\n",
       "      <td>8</td>\n",
       "      <td>1.000000</td>\n",
       "      <td>0</td>\n",
       "      <td>0.000000</td>\n",
       "      <td>1</td>\n",
       "      <td>False</td>\n",
       "    </tr>\n",
       "    <tr>\n",
       "      <th>3784793</th>\n",
       "      <td>8</td>\n",
       "      <td>8</td>\n",
       "      <td>1.000000</td>\n",
       "      <td>1</td>\n",
       "      <td>0</td>\n",
       "      <td>0</td>\n",
       "      <td>1</td>\n",
       "      <td>0</td>\n",
       "      <td>6</td>\n",
       "      <td>0.750000</td>\n",
       "      <td>2</td>\n",
       "      <td>0.250000</td>\n",
       "      <td>1</td>\n",
       "      <td>False</td>\n",
       "    </tr>\n",
       "    <tr>\n",
       "      <th>3407005</th>\n",
       "      <td>8</td>\n",
       "      <td>7</td>\n",
       "      <td>0.875000</td>\n",
       "      <td>1</td>\n",
       "      <td>1</td>\n",
       "      <td>1</td>\n",
       "      <td>0</td>\n",
       "      <td>0</td>\n",
       "      <td>8</td>\n",
       "      <td>1.000000</td>\n",
       "      <td>0</td>\n",
       "      <td>0.000000</td>\n",
       "      <td>1</td>\n",
       "      <td>False</td>\n",
       "    </tr>\n",
       "    <tr>\n",
       "      <th>2194342</th>\n",
       "      <td>6</td>\n",
       "      <td>6</td>\n",
       "      <td>1.000000</td>\n",
       "      <td>1</td>\n",
       "      <td>0</td>\n",
       "      <td>1</td>\n",
       "      <td>0</td>\n",
       "      <td>0</td>\n",
       "      <td>4</td>\n",
       "      <td>0.666667</td>\n",
       "      <td>2</td>\n",
       "      <td>0.333333</td>\n",
       "      <td>1</td>\n",
       "      <td>False</td>\n",
       "    </tr>\n",
       "    <tr>\n",
       "      <th>3156615</th>\n",
       "      <td>12</td>\n",
       "      <td>8</td>\n",
       "      <td>0.666667</td>\n",
       "      <td>1</td>\n",
       "      <td>1</td>\n",
       "      <td>0</td>\n",
       "      <td>0</td>\n",
       "      <td>0</td>\n",
       "      <td>12</td>\n",
       "      <td>1.000000</td>\n",
       "      <td>0</td>\n",
       "      <td>0.000000</td>\n",
       "      <td>0</td>\n",
       "      <td>False</td>\n",
       "    </tr>\n",
       "    <tr>\n",
       "      <th>1264267</th>\n",
       "      <td>4</td>\n",
       "      <td>4</td>\n",
       "      <td>1.000000</td>\n",
       "      <td>1</td>\n",
       "      <td>1</td>\n",
       "      <td>1</td>\n",
       "      <td>0</td>\n",
       "      <td>0</td>\n",
       "      <td>4</td>\n",
       "      <td>1.000000</td>\n",
       "      <td>0</td>\n",
       "      <td>0.000000</td>\n",
       "      <td>1</td>\n",
       "      <td>False</td>\n",
       "    </tr>\n",
       "    <tr>\n",
       "      <th>3596620</th>\n",
       "      <td>5</td>\n",
       "      <td>4</td>\n",
       "      <td>0.800000</td>\n",
       "      <td>1</td>\n",
       "      <td>1</td>\n",
       "      <td>0</td>\n",
       "      <td>1</td>\n",
       "      <td>0</td>\n",
       "      <td>5</td>\n",
       "      <td>1.000000</td>\n",
       "      <td>0</td>\n",
       "      <td>0.000000</td>\n",
       "      <td>1</td>\n",
       "      <td>False</td>\n",
       "    </tr>\n",
       "    <tr>\n",
       "      <th>1124136</th>\n",
       "      <td>6</td>\n",
       "      <td>3</td>\n",
       "      <td>0.500000</td>\n",
       "      <td>1</td>\n",
       "      <td>1</td>\n",
       "      <td>1</td>\n",
       "      <td>0</td>\n",
       "      <td>0</td>\n",
       "      <td>6</td>\n",
       "      <td>1.000000</td>\n",
       "      <td>0</td>\n",
       "      <td>0.000000</td>\n",
       "      <td>1</td>\n",
       "      <td>False</td>\n",
       "    </tr>\n",
       "    <tr>\n",
       "      <th>2776250</th>\n",
       "      <td>6</td>\n",
       "      <td>4</td>\n",
       "      <td>0.666667</td>\n",
       "      <td>1</td>\n",
       "      <td>0</td>\n",
       "      <td>1</td>\n",
       "      <td>0</td>\n",
       "      <td>0</td>\n",
       "      <td>1</td>\n",
       "      <td>0.166667</td>\n",
       "      <td>5</td>\n",
       "      <td>0.833333</td>\n",
       "      <td>1</td>\n",
       "      <td>False</td>\n",
       "    </tr>\n",
       "    <tr>\n",
       "      <th>195413</th>\n",
       "      <td>10</td>\n",
       "      <td>8</td>\n",
       "      <td>0.800000</td>\n",
       "      <td>1</td>\n",
       "      <td>0</td>\n",
       "      <td>1</td>\n",
       "      <td>0</td>\n",
       "      <td>0</td>\n",
       "      <td>6</td>\n",
       "      <td>0.600000</td>\n",
       "      <td>4</td>\n",
       "      <td>0.400000</td>\n",
       "      <td>1</td>\n",
       "      <td>False</td>\n",
       "    </tr>\n",
       "  </tbody>\n",
       "</table>\n",
       "</div>"
      ],
      "text/plain": [
       "         password_length  unique_chars_count  unique_chars_prop  is_alnum  \\\n",
       "2023443                8                   7           0.875000         1   \n",
       "3784793                8                   8           1.000000         1   \n",
       "3407005                8                   7           0.875000         1   \n",
       "2194342                6                   6           1.000000         1   \n",
       "3156615               12                   8           0.666667         1   \n",
       "1264267                4                   4           1.000000         1   \n",
       "3596620                5                   4           0.800000         1   \n",
       "1124136                6                   3           0.500000         1   \n",
       "2776250                6                   4           0.666667         1   \n",
       "195413                10                   8           0.800000         1   \n",
       "\n",
       "         is_alpha  is_lower  is_upper  is_numeric  letters_count  \\\n",
       "2023443         1         1         0           0              8   \n",
       "3784793         0         0         1           0              6   \n",
       "3407005         1         1         0           0              8   \n",
       "2194342         0         1         0           0              4   \n",
       "3156615         1         0         0           0             12   \n",
       "1264267         1         1         0           0              4   \n",
       "3596620         1         0         1           0              5   \n",
       "1124136         1         1         0           0              6   \n",
       "2776250         0         1         0           0              1   \n",
       "195413          0         1         0           0              6   \n",
       "\n",
       "         letters_prob  difits_count  digits_prob  is_lower_and_upper  \\\n",
       "2023443      1.000000             0     0.000000                   1   \n",
       "3784793      0.750000             2     0.250000                   1   \n",
       "3407005      1.000000             0     0.000000                   1   \n",
       "2194342      0.666667             2     0.333333                   1   \n",
       "3156615      1.000000             0     0.000000                   0   \n",
       "1264267      1.000000             0     0.000000                   1   \n",
       "3596620      1.000000             0     0.000000                   1   \n",
       "1124136      1.000000             0     0.000000                   1   \n",
       "2776250      0.166667             5     0.833333                   1   \n",
       "195413       0.600000             4     0.400000                   1   \n",
       "\n",
       "         palindrom  \n",
       "2023443      False  \n",
       "3784793      False  \n",
       "3407005      False  \n",
       "2194342      False  \n",
       "3156615      False  \n",
       "1264267      False  \n",
       "3596620      False  \n",
       "1124136      False  \n",
       "2776250      False  \n",
       "195413       False  "
      ]
     },
     "metadata": {},
     "execution_count": 16
    }
   ],
   "metadata": {}
  },
  {
   "cell_type": "code",
   "execution_count": 11,
   "source": [
    "y_train.iloc[1655:1665]"
   ],
   "outputs": [
    {
     "output_type": "execute_result",
     "data": {
      "text/plain": [
       "2023443      1\n",
       "3784793      1\n",
       "3407005      2\n",
       "2194342      1\n",
       "3156615      1\n",
       "1264267    177\n",
       "3596620      1\n",
       "1124136      1\n",
       "2776250      1\n",
       "195413       1\n",
       "Name: Times, dtype: int64"
      ]
     },
     "metadata": {},
     "execution_count": 11
    }
   ],
   "metadata": {}
  },
  {
   "cell_type": "code",
   "execution_count": 12,
   "source": [
    "optuna_search.best_estimator_.predict(X_train.iloc[1655:1665])"
   ],
   "outputs": [
    {
     "output_type": "execute_result",
     "data": {
      "text/plain": [
       "array([  1.        ,   1.04      ,   1.        ,   1.49      ,\n",
       "         1.39      , 120.7       ,   4.66      ,   1.38738095,\n",
       "         1.18      ,   1.        ])"
      ]
     },
     "metadata": {},
     "execution_count": 12
    }
   ],
   "metadata": {}
  },
  {
   "cell_type": "code",
   "execution_count": null,
   "source": [],
   "outputs": [],
   "metadata": {}
  }
 ],
 "metadata": {
  "orig_nbformat": 4,
  "language_info": {
   "name": "python",
   "version": "3.9.6",
   "mimetype": "text/x-python",
   "codemirror_mode": {
    "name": "ipython",
    "version": 3
   },
   "pygments_lexer": "ipython3",
   "nbconvert_exporter": "python",
   "file_extension": ".py"
  },
  "kernelspec": {
   "name": "python3",
   "display_name": "Python 3.9.6 64-bit ('password_comp': pyenv)"
  },
  "interpreter": {
   "hash": "1046a3745d5d25f8151bcd194784bdfcfb088ed10efe75dc18a320f117bc9e52"
  }
 },
 "nbformat": 4,
 "nbformat_minor": 2
}