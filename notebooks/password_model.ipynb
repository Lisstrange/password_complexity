{
 "metadata": {
  "language_info": {
   "codemirror_mode": {
    "name": "ipython",
    "version": 3
   },
   "file_extension": ".py",
   "mimetype": "text/x-python",
   "name": "python",
   "nbconvert_exporter": "python",
   "pygments_lexer": "ipython3",
   "version": "3.9.6"
  },
  "orig_nbformat": 4,
  "kernelspec": {
   "name": "python3",
   "display_name": "Python 3.9.6 64-bit ('password_comp': pyenv)"
  },
  "interpreter": {
   "hash": "1046a3745d5d25f8151bcd194784bdfcfb088ed10efe75dc18a320f117bc9e52"
  }
 },
 "nbformat": 4,
 "nbformat_minor": 2,
 "cells": [
  {
   "cell_type": "code",
   "execution_count": 1,
   "source": [
    "import pandas as pd\n",
    "import numpy as np\n",
    "import box\n",
    "\n",
    "from password_complexity.features.generate import generate_features\n",
    "from password_complexity.utils.config import load_config\n",
    "from password_complexity.metrics.metrics import rmsle_score, RMSLE_score, RMSLE\n",
    "from password_complexity.utils.hyperparameters import params_distribution\n"
   ],
   "outputs": [],
   "metadata": {}
  },
  {
   "cell_type": "markdown",
   "source": [
    "## Preprocessing\n",
    "\n",
    "\n",
    "#### Preprocess NaN passwowrds"
   ],
   "metadata": {}
  },
  {
   "cell_type": "code",
   "execution_count": 21,
   "source": [
    "common_path='/home/nikita/My_github/password_comp/data/'\n",
    "train=pd.read_csv(common_path+'train.csv')\n",
    "test=pd.read_csv(common_path+'Xtest.csv')\n",
    "\n",
    "#fill nan's\n",
    "train['Password'] = train['Password'].fillna('No_set_password')\n",
    "test['Password'] = test['Password'].fillna('No_set_password')\n",
    "\n",
    "train = train.groupby('Password', as_index=False)['Times'].sum()\n",
    "\n",
    "train.head()"
   ],
   "outputs": [
    {
     "output_type": "execute_result",
     "data": {
      "text/plain": [
       "   Password  Times\n",
       "0    !!!!!!      8\n",
       "1   !!!!!!!      5\n",
       "2  !!!!!!55      1\n",
       "3   !!!!!25      1\n",
       "4  !!!!!mno      1"
      ],
      "text/html": "<div>\n<style scoped>\n    .dataframe tbody tr th:only-of-type {\n        vertical-align: middle;\n    }\n\n    .dataframe tbody tr th {\n        vertical-align: top;\n    }\n\n    .dataframe thead th {\n        text-align: right;\n    }\n</style>\n<table border=\"1\" class=\"dataframe\">\n  <thead>\n    <tr style=\"text-align: right;\">\n      <th></th>\n      <th>Password</th>\n      <th>Times</th>\n    </tr>\n  </thead>\n  <tbody>\n    <tr>\n      <th>0</th>\n      <td>!!!!!!</td>\n      <td>8</td>\n    </tr>\n    <tr>\n      <th>1</th>\n      <td>!!!!!!!</td>\n      <td>5</td>\n    </tr>\n    <tr>\n      <th>2</th>\n      <td>!!!!!!55</td>\n      <td>1</td>\n    </tr>\n    <tr>\n      <th>3</th>\n      <td>!!!!!25</td>\n      <td>1</td>\n    </tr>\n    <tr>\n      <th>4</th>\n      <td>!!!!!mno</td>\n      <td>1</td>\n    </tr>\n  </tbody>\n</table>\n</div>"
     },
     "metadata": {},
     "execution_count": 21
    }
   ],
   "metadata": {}
  },
  {
   "cell_type": "code",
   "execution_count": 22,
   "source": [
    "train=generate_features(train)\n",
    "train.head()"
   ],
   "outputs": [
    {
     "output_type": "execute_result",
     "data": {
      "text/plain": [
       "   Times  password_length  unique_chars_count  unique_chars_prop  is_alnum  \\\n",
       "0      8                6                   1           0.166667         0   \n",
       "1      5                7                   1           0.142857         0   \n",
       "2      1                8                   2           0.250000         0   \n",
       "3      1                7                   3           0.428571         0   \n",
       "4      1                8                   4           0.500000         0   \n",
       "\n",
       "   is_alpha  is_lower  is_upper  is_numeric  letters_count  letters_prob  \\\n",
       "0         0         0         0           0              0         0.000   \n",
       "1         0         0         0           0              0         0.000   \n",
       "2         0         0         0           0              0         0.000   \n",
       "3         0         0         0           0              0         0.000   \n",
       "4         0         1         0           0              3         0.375   \n",
       "\n",
       "   difits_count  digits_prob  is_lower_and_upper  palindrom  \n",
       "0             0     0.000000                   0       True  \n",
       "1             0     0.000000                   0       True  \n",
       "2             2     0.250000                   0      False  \n",
       "3             2     0.285714                   0      False  \n",
       "4             0     0.000000                   1      False  "
      ],
      "text/html": "<div>\n<style scoped>\n    .dataframe tbody tr th:only-of-type {\n        vertical-align: middle;\n    }\n\n    .dataframe tbody tr th {\n        vertical-align: top;\n    }\n\n    .dataframe thead th {\n        text-align: right;\n    }\n</style>\n<table border=\"1\" class=\"dataframe\">\n  <thead>\n    <tr style=\"text-align: right;\">\n      <th></th>\n      <th>Times</th>\n      <th>password_length</th>\n      <th>unique_chars_count</th>\n      <th>unique_chars_prop</th>\n      <th>is_alnum</th>\n      <th>is_alpha</th>\n      <th>is_lower</th>\n      <th>is_upper</th>\n      <th>is_numeric</th>\n      <th>letters_count</th>\n      <th>letters_prob</th>\n      <th>difits_count</th>\n      <th>digits_prob</th>\n      <th>is_lower_and_upper</th>\n      <th>palindrom</th>\n    </tr>\n  </thead>\n  <tbody>\n    <tr>\n      <th>0</th>\n      <td>8</td>\n      <td>6</td>\n      <td>1</td>\n      <td>0.166667</td>\n      <td>0</td>\n      <td>0</td>\n      <td>0</td>\n      <td>0</td>\n      <td>0</td>\n      <td>0</td>\n      <td>0.000</td>\n      <td>0</td>\n      <td>0.000000</td>\n      <td>0</td>\n      <td>True</td>\n    </tr>\n    <tr>\n      <th>1</th>\n      <td>5</td>\n      <td>7</td>\n      <td>1</td>\n      <td>0.142857</td>\n      <td>0</td>\n      <td>0</td>\n      <td>0</td>\n      <td>0</td>\n      <td>0</td>\n      <td>0</td>\n      <td>0.000</td>\n      <td>0</td>\n      <td>0.000000</td>\n      <td>0</td>\n      <td>True</td>\n    </tr>\n    <tr>\n      <th>2</th>\n      <td>1</td>\n      <td>8</td>\n      <td>2</td>\n      <td>0.250000</td>\n      <td>0</td>\n      <td>0</td>\n      <td>0</td>\n      <td>0</td>\n      <td>0</td>\n      <td>0</td>\n      <td>0.000</td>\n      <td>2</td>\n      <td>0.250000</td>\n      <td>0</td>\n      <td>False</td>\n    </tr>\n    <tr>\n      <th>3</th>\n      <td>1</td>\n      <td>7</td>\n      <td>3</td>\n      <td>0.428571</td>\n      <td>0</td>\n      <td>0</td>\n      <td>0</td>\n      <td>0</td>\n      <td>0</td>\n      <td>0</td>\n      <td>0.000</td>\n      <td>2</td>\n      <td>0.285714</td>\n      <td>0</td>\n      <td>False</td>\n    </tr>\n    <tr>\n      <th>4</th>\n      <td>1</td>\n      <td>8</td>\n      <td>4</td>\n      <td>0.500000</td>\n      <td>0</td>\n      <td>0</td>\n      <td>1</td>\n      <td>0</td>\n      <td>0</td>\n      <td>3</td>\n      <td>0.375</td>\n      <td>0</td>\n      <td>0.000000</td>\n      <td>1</td>\n      <td>False</td>\n    </tr>\n  </tbody>\n</table>\n</div>"
     },
     "metadata": {},
     "execution_count": 22
    }
   ],
   "metadata": {}
  },
  {
   "cell_type": "code",
   "execution_count": 23,
   "metadata": {},
   "outputs": [
    {
     "output_type": "execute_result",
     "data": {
      "text/plain": [
       "Times                 0\n",
       "password_length       0\n",
       "unique_chars_count    0\n",
       "unique_chars_prop     0\n",
       "is_alnum              0\n",
       "is_alpha              0\n",
       "is_lower              0\n",
       "is_upper              0\n",
       "is_numeric            0\n",
       "letters_count         0\n",
       "letters_prob          0\n",
       "difits_count          0\n",
       "digits_prob           0\n",
       "is_lower_and_upper    0\n",
       "palindrom             0\n",
       "dtype: int64"
      ]
     },
     "metadata": {},
     "execution_count": 23
    }
   ],
   "source": [
    "train.isna().sum()"
   ]
  },
  {
   "source": [
    "### Prepare Model"
   ],
   "cell_type": "markdown",
   "metadata": {}
  },
  {
   "cell_type": "code",
   "execution_count": 24,
   "metadata": {},
   "outputs": [],
   "source": [
    "from sklearn.pipeline import Pipeline\n",
    "from sklearn.feature_extraction.text import CountVectorizer, TfidfVectorizer\n",
    "from sklearn.model_selection import GridSearchCV, train_test_split, KFold\n",
    "from sklearn.preprocessing import StandardScaler, RobustScaler, PowerTransformer, FunctionTransformer\n",
    "from sklearn.compose import ColumnTransformer\n",
    "\n",
    "from sklearn.metrics import mean_squared_log_error\n",
    "\n",
    "from sklearn.dummy import DummyRegressor\n",
    "from sklearn.linear_model import LinearRegression, Ridge, Lasso, PoissonRegressor, GammaRegressor\n",
    "\n",
    "from lightgbm import LGBMRegressor\n",
    "\n",
    "from optuna.samplers import RandomSampler\n",
    "import optuna\n",
    "# for test\n",
    "from sklearn.impute import SimpleImputer\n",
    "from sklearn.preprocessing import StandardScaler\n",
    "from sklearn.preprocessing import OneHotEncoder\n",
    "from sklearn.linear_model import LogisticRegression\n",
    "from sklearn.model_selection import cross_val_score\n"
   ]
  },
  {
   "cell_type": "code",
   "execution_count": 25,
   "metadata": {},
   "outputs": [
    {
     "output_type": "execute_result",
     "data": {
      "text/plain": [
       "((4151495, 14), (4151495,))"
      ]
     },
     "metadata": {},
     "execution_count": 25
    }
   ],
   "source": [
    "y_train = np.log1p(train['Times'])\n",
    "X_train = train.drop('Times', axis=1)\n",
    "\n",
    "X_train.shape, y_train.shape"
   ]
  },
  {
   "cell_type": "code",
   "execution_count": 26,
   "metadata": {},
   "outputs": [
    {
     "output_type": "execute_result",
     "data": {
      "text/plain": [
       "['password_length',\n",
       " 'unique_chars_count',\n",
       " 'unique_chars_prop',\n",
       " 'is_alnum',\n",
       " 'is_alpha',\n",
       " 'is_lower',\n",
       " 'is_upper',\n",
       " 'is_numeric',\n",
       " 'letters_count',\n",
       " 'letters_prob',\n",
       " 'difits_count',\n",
       " 'digits_prob',\n",
       " 'is_lower_and_upper']"
      ]
     },
     "metadata": {},
     "execution_count": 26
    }
   ],
   "source": [
    "num_cols = X_train.filter(regex='_').columns.tolist()\n",
    "num_cols"
   ]
  },
  {
   "cell_type": "code",
   "execution_count": 27,
   "metadata": {},
   "outputs": [],
   "source": [
    "## Создаем списки коннилчественных\n",
    "## и категориальных столбцов\n",
    "cat_columns = X_train.dtypes[X_train.dtypes == 'object'].index\n",
    "num_columns = X_train.dtypes[X_train.dtypes != 'object'].index\n",
    "\n",
    "## Cоздаем конвейер для количественных переменных\n",
    "num_pipe = Pipeline([\n",
    "    ('imputer', SimpleImputer()),\n",
    "    ('scaler', StandardScaler())\n",
    "])\n",
    "\n",
    "# Создаем конвейер для категориальных переменных\n",
    "cat_pipe = Pipeline([\n",
    "    ('imputer', SimpleImputer()),\n",
    "    ('feature_encoding', OneHotEncoder(sparse=False, handle_unknown='ignore'))\n",
    "])\n",
    "\n",
    "# создаем список трехэлементных кортежей, в котором\n",
    "# первый элемент кортежа - название конвейера с\n",
    "# преобразованиями для определённого типа признаков\n",
    "transformers = [('num', num_pipe, num_columns),\n",
    "               ('cat', cat_pipe, cat_columns)]\n",
    "\n",
    "# передаем список трансформеров в  Columnransformer\n",
    "transformer = ColumnTransformer(transformers=transformers)\n",
    "\n",
    "# задаем итоговый конвейрер\n",
    "pipe = Pipeline([\n",
    "    ('transform', transformer),\n",
    "    ('logreg', LinearRegression())\n",
    "])"
   ]
  },
  {
   "cell_type": "code",
   "execution_count": 28,
   "metadata": {},
   "outputs": [],
   "source": [
    "# немного модифицируем конвейер\n",
    "pipe = Pipeline([('transform', transformer), \n",
    "                ('logreg', LogisticRegression())])   "
   ]
  },
  {
   "cell_type": "code",
   "execution_count": 29,
   "metadata": {},
   "outputs": [],
   "source": [
    "#LinearRegression?"
   ]
  },
  {
   "cell_type": "code",
   "execution_count": 30,
   "metadata": {},
   "outputs": [],
   "source": [
    "# пишем функцию, которую будем оптимизировать\n",
    "def objective(trial):\n",
    "    # задаем пространство поиска\n",
    "    params = {\n",
    "        'rank_': trial.suggest_int('rank_', 1, 64),\n",
    "        'normalize': trial.suggest_categorical('normalize', [True, False])\n",
    "    }\n",
    "    pipe.set_params(**params)\n",
    "    return np.mean(cross_val_score(pipe, X_train, y_train, cv=5))"
   ]
  },
  {
   "cell_type": "code",
   "execution_count": 31,
   "metadata": {
    "tags": []
   },
   "outputs": [
    {
     "output_type": "stream",
     "name": "stderr",
     "text": [
      "\u001b[32m[I 2021-09-05 12:28:13,101]\u001b[0m A new study created in memory with name: no-name-25b1c1c0-b511-407c-8dd0-59aae1a00b37\u001b[0m\n",
      "\u001b[32m[I 2021-09-05 12:28:16,203]\u001b[0m Trial 0 finished with value: -0.1686994193616374 and parameters: {'transform__cat__imputer__strategy': 'median', 'linear__normalize': True, 'linear__positive': True}. Best is trial 0 with value: -0.1686994193616374.\u001b[0m\n",
      "\u001b[32m[I 2021-09-05 12:28:16,715]\u001b[0m Trial 1 finished with value: -0.1686994193616378 and parameters: {'transform__cat__imputer__strategy': 'mean', 'linear__normalize': False, 'linear__positive': True}. Best is trial 1 with value: -0.1686994193616378.\u001b[0m\n",
      "\u001b[32m[I 2021-09-05 12:28:17,293]\u001b[0m Trial 2 finished with value: -0.1686994193616378 and parameters: {'transform__cat__imputer__strategy': 'median', 'linear__normalize': False, 'linear__positive': True}. Best is trial 1 with value: -0.1686994193616378.\u001b[0m\n",
      "\u001b[32m[I 2021-09-05 12:28:17,848]\u001b[0m Trial 3 finished with value: -0.1686994193616378 and parameters: {'transform__cat__imputer__strategy': 'mean', 'linear__normalize': False, 'linear__positive': True}. Best is trial 1 with value: -0.1686994193616378.\u001b[0m\n",
      "\u001b[32m[I 2021-09-05 12:28:18,415]\u001b[0m Trial 4 finished with value: -0.1686994193616374 and parameters: {'transform__cat__imputer__strategy': 'median', 'linear__normalize': True, 'linear__positive': True}. Best is trial 1 with value: -0.1686994193616378.\u001b[0m\n",
      "\u001b[32m[I 2021-09-05 12:28:18,983]\u001b[0m Trial 5 finished with value: -0.1686994193616378 and parameters: {'transform__cat__imputer__strategy': 'mean', 'linear__normalize': False, 'linear__positive': True}. Best is trial 1 with value: -0.1686994193616378.\u001b[0m\n",
      "\u001b[32m[I 2021-09-05 12:28:19,525]\u001b[0m Trial 6 finished with value: -0.1686994193616378 and parameters: {'transform__cat__imputer__strategy': 'median', 'linear__normalize': False, 'linear__positive': True}. Best is trial 1 with value: -0.1686994193616378.\u001b[0m\n",
      "\u001b[32m[I 2021-09-05 12:28:20,116]\u001b[0m Trial 7 finished with value: -0.1686994193616374 and parameters: {'transform__cat__imputer__strategy': 'mean', 'linear__normalize': True, 'linear__positive': True}. Best is trial 1 with value: -0.1686994193616378.\u001b[0m\n",
      "\u001b[32m[I 2021-09-05 12:28:20,708]\u001b[0m Trial 8 finished with value: -0.1686994193616374 and parameters: {'transform__cat__imputer__strategy': 'median', 'linear__normalize': True, 'linear__positive': True}. Best is trial 1 with value: -0.1686994193616378.\u001b[0m\n",
      "\u001b[32m[I 2021-09-05 12:28:21,283]\u001b[0m Trial 9 finished with value: -0.1686994193616374 and parameters: {'transform__cat__imputer__strategy': 'mean', 'linear__normalize': True, 'linear__positive': True}. Best is trial 1 with value: -0.1686994193616378.\u001b[0m\n"
     ]
    }
   ],
   "source": [
    "#y_train2=np.random.randint(2, size=4151495)\n",
    "y_train2=y_train[:15000]\n",
    "X_train2=X_train.iloc[:15000]\n",
    "\n",
    "from sklearn.linear_model import LogisticRegression, LinearRegression\n",
    "# немного модифицируем конвейер\n",
    "pipe = Pipeline([('transform', transformer), \n",
    "                ('linear', LinearRegression())])\n",
    "\n",
    "# пишем функцию, которую будем оптимизировать\n",
    "def objective(trial):\n",
    "    # задаем пространство поиска\n",
    "    params = {\n",
    "        'transform__cat__imputer__strategy': trial.suggest_categorical('transform__cat__imputer__strategy', ['mean', 'median']),\n",
    "        'linear__normalize': trial.suggest_categorical('linear__normalize', [True, False]),\n",
    "        'linear__positive': trial.suggest_categorical('linear__positive', [True])\n",
    "    }\n",
    "    params_distributions(**params)\n",
    "    return np.mean(cross_val_score(pipe, X_train2, y_train2, cv=5, scoring=RMSLE_score\n",
    "\n",
    "    ))\n",
    "\n",
    "\n",
    "# задаем новое стартовое значение генератора псевдослучайных чисел\n",
    "sampl = RandomSampler(seed=42)\n",
    "# создаем задачу оптимизации\n",
    "study = optuna.create_study(sampler=sampl, direction='minimize')\n",
    "# отключаем вывод результатов оптимизации в режиме реального времени\n",
    "optuna.logging.enable_default_handler()\n",
    "# выполняем оптимизацию\n",
    "study.optimize(objective, n_trials=10)"
   ]
  },
  {
   "cell_type": "code",
   "execution_count": 32,
   "metadata": {},
   "outputs": [
    {
     "output_type": "stream",
     "name": "stderr",
     "text": [
      "/tmp/ipykernel_38534/2314146626.py:12: ExperimentalWarning: OptunaSearchCV is experimental (supported from v0.17.0). The interface can change in the future.\n",
      "  optuna_search = OptunaSearchCV(\n",
      "/home/nikita/.pyenv/versions/3.9.6/envs/password_comp/lib/python3.9/site-packages/sklearn/utils/validation.py:70: FutureWarning: Pass classifier=False as keyword args. From version 1.0 (renaming of 0.25) passing these as positional arguments will result in an error\n",
      "  warnings.warn(f\"Pass {args_msg} as keyword args. From version \"\n",
      "\u001b[32m[I 2021-09-05 12:28:22,225]\u001b[0m A new study created in memory with name: no-name-6a1327ee-34d1-4176-af97-0de6c269a8db\u001b[0m\n",
      "\u001b[32m[I 2021-09-05 12:28:22,231]\u001b[0m Searching the best hyperparameters using 15000 samples...\u001b[0m\n",
      "\u001b[32m[I 2021-09-05 12:28:22,866]\u001b[0m Trial 0 finished with value: -0.1686994193616378 and parameters: {'transform__cat__imputer__strategy': 'median', 'linear__normalize': False, 'linear__positive': True}. Best is trial 0 with value: -0.1686994193616378.\u001b[0m\n",
      "\u001b[32m[I 2021-09-05 12:28:23,457]\u001b[0m Trial 1 finished with value: -0.1686994193616374 and parameters: {'transform__cat__imputer__strategy': 'mean', 'linear__normalize': True, 'linear__positive': True}. Best is trial 1 with value: -0.1686994193616374.\u001b[0m\n",
      "\u001b[32m[I 2021-09-05 12:28:24,037]\u001b[0m Trial 2 finished with value: -0.1686994193616378 and parameters: {'transform__cat__imputer__strategy': 'median', 'linear__normalize': False, 'linear__positive': True}. Best is trial 1 with value: -0.1686994193616374.\u001b[0m\n",
      "\u001b[32m[I 2021-09-05 12:28:24,598]\u001b[0m Trial 3 finished with value: -0.1686994193616378 and parameters: {'transform__cat__imputer__strategy': 'mean', 'linear__normalize': False, 'linear__positive': True}. Best is trial 1 with value: -0.1686994193616374.\u001b[0m\n",
      "\u001b[32m[I 2021-09-05 12:28:25,175]\u001b[0m Trial 4 finished with value: -0.1686994193616378 and parameters: {'transform__cat__imputer__strategy': 'median', 'linear__normalize': False, 'linear__positive': True}. Best is trial 1 with value: -0.1686994193616374.\u001b[0m\n",
      "\u001b[32m[I 2021-09-05 12:28:25,766]\u001b[0m Trial 5 finished with value: -0.1686994193616374 and parameters: {'transform__cat__imputer__strategy': 'median', 'linear__normalize': True, 'linear__positive': True}. Best is trial 1 with value: -0.1686994193616374.\u001b[0m\n",
      "\u001b[32m[I 2021-09-05 12:28:26,219]\u001b[0m Trial 6 finished with value: -0.1686994193616374 and parameters: {'transform__cat__imputer__strategy': 'median', 'linear__normalize': True, 'linear__positive': True}. Best is trial 1 with value: -0.1686994193616374.\u001b[0m\n",
      "\u001b[32m[I 2021-09-05 12:28:26,814]\u001b[0m Trial 7 finished with value: -0.1686994193616378 and parameters: {'transform__cat__imputer__strategy': 'median', 'linear__normalize': False, 'linear__positive': True}. Best is trial 1 with value: -0.1686994193616374.\u001b[0m\n",
      "\u001b[32m[I 2021-09-05 12:28:27,393]\u001b[0m Trial 8 finished with value: -0.1686994193616374 and parameters: {'transform__cat__imputer__strategy': 'median', 'linear__normalize': True, 'linear__positive': True}. Best is trial 1 with value: -0.1686994193616374.\u001b[0m\n",
      "\u001b[32m[I 2021-09-05 12:28:27,948]\u001b[0m Trial 9 finished with value: -0.1686994193616374 and parameters: {'transform__cat__imputer__strategy': 'median', 'linear__normalize': True, 'linear__positive': True}. Best is trial 1 with value: -0.1686994193616374.\u001b[0m\n",
      "\u001b[32m[I 2021-09-05 12:28:27,949]\u001b[0m Finished hyperparemeter search!\u001b[0m\n",
      "\u001b[32m[I 2021-09-05 12:28:27,970]\u001b[0m Refitting the estimator using 15000 samples...\u001b[0m\n",
      "\u001b[32m[I 2021-09-05 12:28:28,062]\u001b[0m Finished refitting! (elapsed time: 0.091 sec.)\u001b[0m\n"
     ]
    },
    {
     "output_type": "execute_result",
     "data": {
      "text/plain": [
       "OptunaSearchCV(estimator=Pipeline(steps=[('transform',\n",
       "                                          ColumnTransformer(transformers=[('num',\n",
       "                                                                           Pipeline(steps=[('imputer',\n",
       "                                                                                            SimpleImputer()),\n",
       "                                                                                           ('scaler',\n",
       "                                                                                            StandardScaler())]),\n",
       "                                                                           Index(['password_length', 'unique_chars_count', 'unique_chars_prop',\n",
       "       'is_alnum', 'is_alpha', 'is_lower', 'is_upper', 'is_numeric',\n",
       "       'letters_count', 'letters_prob', 'difits_count', 'digits_prob',...\n",
       "                                                                           Index([], dtype='object'))])),\n",
       "                                         ('linear', LinearRegression())]),\n",
       "               param_distributions={'linear__normalize': CategoricalDistribution(choices=(True, False)),\n",
       "                                    'linear__positive': CategoricalDistribution(choices=(True,)),\n",
       "                                    'transform__cat__imputer__strategy': CategoricalDistribution(choices=('mean', 'median'))},\n",
       "               random_state=42,\n",
       "               scoring=make_scorer(RMSLE, greater_is_better=False), verbose=1)"
      ]
     },
     "metadata": {},
     "execution_count": 32
    }
   ],
   "source": [
    "optuna_cv_pipe = Pipeline([('transform', transformer), \n",
    "                           ('linear', LinearRegression())])\n",
    "from optuna.integration import OptunaSearchCV\n",
    "from optuna.distributions import *\n",
    "params_distribution = {\n",
    "        'transform__cat__imputer__strategy': CategoricalDistribution(['mean', 'median']),\n",
    "        'linear__normalize': CategoricalDistribution([True, False]),\n",
    "        'linear__positive': CategoricalDistribution([True])\n",
    "    }\n",
    "\n",
    "\n",
    "optuna_search = OptunaSearchCV(\n",
    "    optuna_cv_pipe,\n",
    "    params_distribution,\n",
    "    scoring=RMSLE_score,\n",
    "    random_state=42,\n",
    "    n_trials=10,\n",
    "    verbose=1,\n",
    "    cv=5\n",
    ")\n",
    "\n",
    "\n",
    "optuna_search.fit(X_train2, y_train2)\n"
   ]
  },
  {
   "source": [
    "#### Предскажем значения с помощью нашего оптимизированного пайплайна"
   ],
   "cell_type": "markdown",
   "metadata": {}
  },
  {
   "cell_type": "code",
   "execution_count": 33,
   "metadata": {},
   "outputs": [
    {
     "output_type": "execute_result",
     "data": {
      "text/plain": [
       "0.17236045613766668"
      ]
     },
     "metadata": {},
     "execution_count": 33
    }
   ],
   "source": [
    "\n",
    "RMSLE(y_train2, optuna_search.best_estimator_.predict(X_train2))\n"
   ]
  },
  {
   "cell_type": "code",
   "execution_count": 34,
   "metadata": {},
   "outputs": [
    {
     "output_type": "execute_result",
     "data": {
      "text/plain": [
       "0.2541710383954245"
      ]
     },
     "metadata": {},
     "execution_count": 34
    }
   ],
   "source": [
    "X_valid=X_train.iloc[15000:30000]\n",
    "y_valid=y_train[15000:30000]\n",
    "\n",
    "preds = optuna_search.best_estimator_.predict(X_valid)\n",
    "RMSLE(y_valid, preds)\n"
   ]
  },
  {
   "source": [
    "# Норм , теперь добавим сохранение модели в формате pickle\n",
    "\n",
    "## "
   ],
   "cell_type": "markdown",
   "metadata": {}
  },
  {
   "cell_type": "code",
   "execution_count": 35,
   "metadata": {},
   "outputs": [
    {
     "output_type": "error",
     "ename": "NameError",
     "evalue": "name 'joblib' is not defined",
     "traceback": [
      "\u001b[0;31m---------------------------------------------------------------------------\u001b[0m",
      "\u001b[0;31mNameError\u001b[0m                                 Traceback (most recent call last)",
      "\u001b[0;32m/tmp/ipykernel_38534/2403716261.py\u001b[0m in \u001b[0;36m<module>\u001b[0;34m\u001b[0m\n\u001b[1;32m      4\u001b[0m \u001b[0;34m\u001b[0m\u001b[0m\n\u001b[1;32m      5\u001b[0m \u001b[0;31m# Сохраняем модель\u001b[0m\u001b[0;34m\u001b[0m\u001b[0;34m\u001b[0m\u001b[0;34m\u001b[0m\u001b[0m\n\u001b[0;32m----> 6\u001b[0;31m \u001b[0mjoblib\u001b[0m\u001b[0;34m.\u001b[0m\u001b[0mdump\u001b[0m\u001b[0;34m(\u001b[0m\u001b[0moptuna_search\u001b[0m\u001b[0;34m.\u001b[0m\u001b[0mbest_estimator_\u001b[0m\u001b[0;34m,\u001b[0m \u001b[0msave_path\u001b[0m\u001b[0;34m)\u001b[0m\u001b[0;34m\u001b[0m\u001b[0;34m\u001b[0m\u001b[0m\n\u001b[0m\u001b[1;32m      7\u001b[0m \u001b[0;31m# Загружаем модель\u001b[0m\u001b[0;34m\u001b[0m\u001b[0;34m\u001b[0m\u001b[0;34m\u001b[0m\u001b[0m\n\u001b[1;32m      8\u001b[0m \u001b[0mmodel\u001b[0m\u001b[0;34m=\u001b[0m\u001b[0mjoblib\u001b[0m\u001b[0;34m.\u001b[0m\u001b[0mload\u001b[0m\u001b[0;34m(\u001b[0m\u001b[0msave_path\u001b[0m\u001b[0;34m)\u001b[0m\u001b[0;34m\u001b[0m\u001b[0;34m\u001b[0m\u001b[0m\n",
      "\u001b[0;31mNameError\u001b[0m: name 'joblib' is not defined"
     ]
    }
   ],
   "source": [
    "# Прописываем путь\n",
    "save_path=os.path.join('..', 'models', 'model_config.joblib')\n",
    "\n",
    "\n",
    "# Сохраняем модель\n",
    "joblib.dump(optuna_search.best_estimator_, save_path)\n",
    "# Загружаем модель\n",
    "model=joblib.load(save_path)\n",
    "# \n",
    "preds=model.predict(X_train.iloc[15000:30000])\n",
    "y_valid=y_train[15000:30000]\n",
    "\n",
    "RMSLE(y_valid, preds2)"
   ]
  },
  {
   "cell_type": "code",
   "execution_count": 94,
   "metadata": {},
   "outputs": [
    {
     "output_type": "execute_result",
     "data": {
      "text/plain": [
       "0.2541710383954245"
      ]
     },
     "metadata": {},
     "execution_count": 94
    }
   ],
   "source": []
  },
  {
   "cell_type": "code",
   "execution_count": 50,
   "metadata": {},
   "outputs": [
    {
     "output_type": "execute_result",
     "data": {
      "text/plain": [
       "0.2541710383954245"
      ]
     },
     "metadata": {},
     "execution_count": 50
    }
   ],
   "source": [
    "import pickle\n",
    "import joblib\n",
    "\n",
    "\n",
    "s = joblib.dump(optuna_search.best_estimator_, 'test.joblib')\n",
    "model2=joblib.load('test.joblib')\n",
    "preds2=model2.predict(X_train.iloc[15000:30000])\n",
    "y_valid=y_train[15000:30000]\n",
    "\n",
    "RMSLE(y_valid, preds)"
   ]
  },
  {
   "cell_type": "code",
   "execution_count": 51,
   "metadata": {},
   "outputs": [
    {
     "output_type": "execute_result",
     "data": {
      "text/plain": [
       "array([0.97233739, 0.97233739, 0.97233739, ..., 0.76620565, 0.97233739,\n",
       "       0.75245622])"
      ]
     },
     "metadata": {},
     "execution_count": 51
    }
   ],
   "source": [
    "preds"
   ]
  },
  {
   "cell_type": "code",
   "execution_count": 52,
   "metadata": {},
   "outputs": [
    {
     "output_type": "execute_result",
     "data": {
      "text/plain": [
       "15000    0.693147\n",
       "15001    0.693147\n",
       "15002    0.693147\n",
       "15003    0.693147\n",
       "15004    0.693147\n",
       "           ...   \n",
       "29995    1.386294\n",
       "29996    3.871201\n",
       "29997    0.693147\n",
       "29998    4.043051\n",
       "29999    0.693147\n",
       "Name: Times, Length: 15000, dtype: float64"
      ]
     },
     "metadata": {},
     "execution_count": 52
    }
   ],
   "source": [
    "y_valid"
   ]
  },
  {
   "cell_type": "code",
   "execution_count": 53,
   "metadata": {},
   "outputs": [
    {
     "output_type": "execute_result",
     "data": {
      "text/plain": [
       "FrozenTrial(number=1, values=[-0.1686994193616378], datetime_start=datetime.datetime(2021, 8, 25, 17, 54, 17, 229964), datetime_complete=datetime.datetime(2021, 8, 25, 17, 54, 17, 808088), params={'transform__cat__imputer__strategy': 'mean', 'linear__normalize': False, 'linear__positive': True}, distributions={'transform__cat__imputer__strategy': CategoricalDistribution(choices=('mean', 'median')), 'linear__normalize': CategoricalDistribution(choices=(True, False)), 'linear__positive': CategoricalDistribution(choices=(True,))}, user_attrs={}, system_attrs={}, intermediate_values={}, trial_id=1, state=TrialState.COMPLETE, value=None)"
      ]
     },
     "metadata": {},
     "execution_count": 53
    }
   ],
   "source": [
    "study.best_trial"
   ]
  },
  {
   "cell_type": "code",
   "execution_count": 54,
   "metadata": {},
   "outputs": [
    {
     "output_type": "execute_result",
     "data": {
      "text/plain": [
       "{'transform__cat__imputer__strategy': 'mean',\n",
       " 'linear__normalize': False,\n",
       " 'linear__positive': True}"
      ]
     },
     "metadata": {},
     "execution_count": 54
    }
   ],
   "source": [
    "study.best_params"
   ]
  },
  {
   "cell_type": "code",
   "execution_count": 55,
   "metadata": {},
   "outputs": [
    {
     "output_type": "execute_result",
     "data": {
      "text/plain": [
       "Pipeline(steps=[('transform',\n",
       "                 ColumnTransformer(transformers=[('num',\n",
       "                                                  Pipeline(steps=[('imputer',\n",
       "                                                                   SimpleImputer()),\n",
       "                                                                  ('scaler',\n",
       "                                                                   StandardScaler())]),\n",
       "                                                  Index(['password_length', 'unique_chars_count', 'unique_chars_prop',\n",
       "       'is_alnum', 'is_alpha', 'is_lower', 'is_upper', 'is_numeric',\n",
       "       'letters_count', 'letters_prob', 'difits_count', 'digits_prob',\n",
       "       'is_lower_and_upper', 'palindrom'],\n",
       "      dtype='object')),\n",
       "                                                 ('cat',\n",
       "                                                  Pipeline(steps=[('imputer',\n",
       "                                                                   SimpleImputer()),\n",
       "                                                                  ('feature_encoding',\n",
       "                                                                   OneHotEncoder(handle_unknown='ignore',\n",
       "                                                                                 sparse=False))]),\n",
       "                                                  Index([], dtype='object'))])),\n",
       "                ('linear', LinearRegression(positive=True))])"
      ]
     },
     "metadata": {},
     "execution_count": 55
    }
   ],
   "source": [
    "pipe.set_params(**study.best_params)"
   ]
  },
  {
   "cell_type": "code",
   "execution_count": 56,
   "metadata": {},
   "outputs": [
    {
     "output_type": "execute_result",
     "data": {
      "text/plain": [
       "FrozenTrial(number=1, values=[-0.1686994193616378], datetime_start=datetime.datetime(2021, 8, 25, 17, 54, 17, 229964), datetime_complete=datetime.datetime(2021, 8, 25, 17, 54, 17, 808088), params={'transform__cat__imputer__strategy': 'mean', 'linear__normalize': False, 'linear__positive': True}, distributions={'transform__cat__imputer__strategy': CategoricalDistribution(choices=('mean', 'median')), 'linear__normalize': CategoricalDistribution(choices=(True, False)), 'linear__positive': CategoricalDistribution(choices=(True,))}, user_attrs={}, system_attrs={}, intermediate_values={}, trial_id=1, state=TrialState.COMPLETE, value=None)"
      ]
     },
     "metadata": {},
     "execution_count": 56
    }
   ],
   "source": [
    "study.best_trial"
   ]
  },
  {
   "cell_type": "code",
   "execution_count": 18,
   "metadata": {},
   "outputs": [
    {
     "output_type": "stream",
     "name": "stdout",
     "text": [
      "{1.791759469228055, 2.1972245773362196, 1.6094379124341003, 1.0986122886681096, 2.0794415416798357, 1.3862943611198906, 2.4849066497880004, 3.6375861597263857, 2.772588722239781, 2.302585092994046, 3.58351893845611, 4.61512051684126, 6.851184927493743, 6.295266001439646, 6.293419278846481, 3.295836866004329, 3.1354942159291497, 4.574710978503383, 4.02535169073515, 5.768320995793772, 2.5649493574615367, 2.995732273553991, 3.044522437723423, 3.4965075614664802, 3.7612001156935624, 4.04305126783455, 4.812184355372417, 4.356708826689592, 4.248495242049359, 4.07753744390572, 5.062595033026967, 4.2626798770413155, 4.143134726391533, 3.2188758248682006, 3.332204510175204, 3.784189633918261, 3.8712010109078907, 3.8066624897703196, 4.844187086458591, 4.442651256490317, 4.330733340286331, 5.0106352940962555, 5.043425116919247, 5.783825182329737, 3.5553480614894135, 2.8903717578961645, 3.6635616461296463, 3.8501476017100584, 3.5263605246161616, 4.59511985013459, 4.007333185232471, 4.0943445622221, 4.127134385045092, 4.3694478524670215, 5.198497031265826, 4.672828834461906, 4.663439094112067, 4.1588830833596715, 4.23410650459726, 6.12029741895095, 3.8918202981106265, 0.6931471805599453, 2.639057329615259, 3.091042453358316, 4.882801922586371, 4.727387818712341, 4.31748811353631, 4.983606621708336, 4.5217885770490405, 4.304065093204169, 3.9512437185814275, 3.1780538303479458, 2.833213344056216, 3.4339872044851463, 4.969813299576001, 4.060443010546419, 4.110873864173311, 4.174387269895637, 5.963579343618446, 3.4011973816621555, 3.970291913552122, 3.4657359027997265, 1.9459101490553132, 2.9444389791664403, 2.3978952727983707, 3.9889840465642745, 3.828641396489095, 4.605170185988092, 4.941642422609304, 4.189654742026425, 4.762173934797756, 4.6913478822291435, 5.225746673713202, 4.290459441148391, 6.375024819828097, 3.258096538021482, 3.6888794541139363, 3.6109179126442243, 3.7376696182833684, 3.713572066704308, 4.276666119016055, 5.594711379601839, 2.70805020110221, 3.367295829986474, 3.9318256327243257, 3.912023005428146}\n"
     ]
    }
   ],
   "source": [
    "y_train2=y_train[:16000]\n",
    "\n",
    "print(set(y_train2))\n"
   ]
  },
  {
   "cell_type": "code",
   "execution_count": 58,
   "metadata": {},
   "outputs": [
    {
     "output_type": "error",
     "ename": "KeyError",
     "evalue": "'logreg'",
     "traceback": [
      "\u001b[0;31m---------------------------------------------------------------------------\u001b[0m",
      "\u001b[0;31mKeyError\u001b[0m                                  Traceback (most recent call last)",
      "\u001b[0;32m/tmp/ipykernel_42535/3601189100.py\u001b[0m in \u001b[0;36m<module>\u001b[0;34m\u001b[0m\n\u001b[1;32m      1\u001b[0m \u001b[0mparams\u001b[0m\u001b[0;34m=\u001b[0m\u001b[0;34m{\u001b[0m\u001b[0;34m'transform__cat__imputer__strategy'\u001b[0m\u001b[0;34m:\u001b[0m \u001b[0;34m'median'\u001b[0m\u001b[0;34m,\u001b[0m \u001b[0;34m'logreg__C'\u001b[0m\u001b[0;34m:\u001b[0m \u001b[0;36m0.3860863615203717\u001b[0m\u001b[0;34m,\u001b[0m \u001b[0;34m'logreg__solver'\u001b[0m\u001b[0;34m:\u001b[0m \u001b[0;34m'lbfgs'\u001b[0m\u001b[0;34m}\u001b[0m\u001b[0;34m\u001b[0m\u001b[0;34m\u001b[0m\u001b[0m\n\u001b[1;32m      2\u001b[0m \u001b[0;34m\u001b[0m\u001b[0m\n\u001b[0;32m----> 3\u001b[0;31m \u001b[0mpipe\u001b[0m\u001b[0;34m.\u001b[0m\u001b[0mfit\u001b[0m\u001b[0;34m(\u001b[0m\u001b[0mX_train2\u001b[0m\u001b[0;34m,\u001b[0m \u001b[0my_train2\u001b[0m\u001b[0;34m,\u001b[0m \u001b[0;34m**\u001b[0m\u001b[0mparams\u001b[0m\u001b[0;34m)\u001b[0m\u001b[0;34m\u001b[0m\u001b[0;34m\u001b[0m\u001b[0m\n\u001b[0m",
      "\u001b[0;32m~/.pyenv/versions/3.9.6/envs/password_comp/lib/python3.9/site-packages/sklearn/pipeline.py\u001b[0m in \u001b[0;36mfit\u001b[0;34m(self, X, y, **fit_params)\u001b[0m\n\u001b[1;32m    338\u001b[0m             \u001b[0mThis\u001b[0m \u001b[0mestimator\u001b[0m\u001b[0;34m\u001b[0m\u001b[0;34m\u001b[0m\u001b[0m\n\u001b[1;32m    339\u001b[0m         \"\"\"\n\u001b[0;32m--> 340\u001b[0;31m         \u001b[0mfit_params_steps\u001b[0m \u001b[0;34m=\u001b[0m \u001b[0mself\u001b[0m\u001b[0;34m.\u001b[0m\u001b[0m_check_fit_params\u001b[0m\u001b[0;34m(\u001b[0m\u001b[0;34m**\u001b[0m\u001b[0mfit_params\u001b[0m\u001b[0;34m)\u001b[0m\u001b[0;34m\u001b[0m\u001b[0;34m\u001b[0m\u001b[0m\n\u001b[0m\u001b[1;32m    341\u001b[0m         \u001b[0mXt\u001b[0m \u001b[0;34m=\u001b[0m \u001b[0mself\u001b[0m\u001b[0;34m.\u001b[0m\u001b[0m_fit\u001b[0m\u001b[0;34m(\u001b[0m\u001b[0mX\u001b[0m\u001b[0;34m,\u001b[0m \u001b[0my\u001b[0m\u001b[0;34m,\u001b[0m \u001b[0;34m**\u001b[0m\u001b[0mfit_params_steps\u001b[0m\u001b[0;34m)\u001b[0m\u001b[0;34m\u001b[0m\u001b[0;34m\u001b[0m\u001b[0m\n\u001b[1;32m    342\u001b[0m         with _print_elapsed_time('Pipeline',\n",
      "\u001b[0;32m~/.pyenv/versions/3.9.6/envs/password_comp/lib/python3.9/site-packages/sklearn/pipeline.py\u001b[0m in \u001b[0;36m_check_fit_params\u001b[0;34m(self, **fit_params)\u001b[0m\n\u001b[1;32m    259\u001b[0m                     \"=sample_weight)`.\".format(pname))\n\u001b[1;32m    260\u001b[0m             \u001b[0mstep\u001b[0m\u001b[0;34m,\u001b[0m \u001b[0mparam\u001b[0m \u001b[0;34m=\u001b[0m \u001b[0mpname\u001b[0m\u001b[0;34m.\u001b[0m\u001b[0msplit\u001b[0m\u001b[0;34m(\u001b[0m\u001b[0;34m'__'\u001b[0m\u001b[0;34m,\u001b[0m \u001b[0;36m1\u001b[0m\u001b[0;34m)\u001b[0m\u001b[0;34m\u001b[0m\u001b[0;34m\u001b[0m\u001b[0m\n\u001b[0;32m--> 261\u001b[0;31m             \u001b[0mfit_params_steps\u001b[0m\u001b[0;34m[\u001b[0m\u001b[0mstep\u001b[0m\u001b[0;34m]\u001b[0m\u001b[0;34m[\u001b[0m\u001b[0mparam\u001b[0m\u001b[0;34m]\u001b[0m \u001b[0;34m=\u001b[0m \u001b[0mpval\u001b[0m\u001b[0;34m\u001b[0m\u001b[0;34m\u001b[0m\u001b[0m\n\u001b[0m\u001b[1;32m    262\u001b[0m         \u001b[0;32mreturn\u001b[0m \u001b[0mfit_params_steps\u001b[0m\u001b[0;34m\u001b[0m\u001b[0;34m\u001b[0m\u001b[0m\n\u001b[1;32m    263\u001b[0m \u001b[0;34m\u001b[0m\u001b[0m\n",
      "\u001b[0;31mKeyError\u001b[0m: 'logreg'"
     ]
    }
   ],
   "source": [
    "params={'transform__cat__imputer__strategy': 'median', 'logreg__C': 0.3860863615203717, 'logreg__solver': 'lbfgs'}\n",
    "\n",
    "pipe.fit(X_train2, y_train2, **params)"
   ]
  },
  {
   "cell_type": "code",
   "execution_count": 18,
   "metadata": {},
   "outputs": [
    {
     "output_type": "error",
     "ename": "SyntaxError",
     "evalue": "invalid syntax (1360556822.py, line 1)",
     "traceback": [
      "\u001b[0;36m  File \u001b[0;32m\"/tmp/ipykernel_11888/1360556822.py\"\u001b[0;36m, line \u001b[0;32m1\u001b[0m\n\u001b[0;31m    Trial 8 finished with value: 0.4998 and parameters: {'strategy': 'median', 'C': 0.014652044500958163, 'solver': 'lbfgs'}. Best is trial 8 with value: 0.4998\u001b[0m\n\u001b[0m          ^\u001b[0m\n\u001b[0;31mSyntaxError\u001b[0m\u001b[0;31m:\u001b[0m invalid syntax\n"
     ]
    }
   ],
   "source": [
    "\n",
    "\n",
    "Trial 8 finished with value: 0.4998 and parameters: {'strategy': 'median', 'C': 0.014652044500958163, 'solver': 'lbfgs'}. Best is trial 8 with value: 0.4998\n",
    "\n",
    "Trial 5 finished with value: -0.49362297187419496 and parameters: {'strategy': 'median', 'C': 0.10077311730135345, 'solver': 'lbfgs'}. Best is trial 5 with value: -0.49362297187419496.\n",
    "\n",
    "\n",
    "Trial 2 finished with value: -0.4877954550601661 and parameters: {'strategy': 'median', 'C': 0.004427367513953402, 'solver': 'liblinear'}. Best is trial 2 with value: -0.4877954550601661.\n"
   ]
  },
  {
   "cell_type": "code",
   "execution_count": 18,
   "metadata": {},
   "outputs": [
    {
     "output_type": "error",
     "ename": "NameError",
     "evalue": "strange name",
     "traceback": [
      "\u001b[0;31m---------------------------------------------------------------------------\u001b[0m",
      "\u001b[0;31mNameError\u001b[0m                                 Traceback (most recent call last)",
      "\u001b[0;32m/tmp/ipykernel_9214/3014412257.py\u001b[0m in \u001b[0;36m<module>\u001b[0;34m\u001b[0m\n\u001b[1;32m      2\u001b[0m     \u001b[0;32mraise\u001b[0m \u001b[0mNameError\u001b[0m\u001b[0;34m(\u001b[0m\u001b[0;34m'strange name'\u001b[0m\u001b[0;34m)\u001b[0m\u001b[0;34m\u001b[0m\u001b[0;34m\u001b[0m\u001b[0m\n\u001b[1;32m      3\u001b[0m \u001b[0;34m\u001b[0m\u001b[0m\n\u001b[0;32m----> 4\u001b[0;31m \u001b[0mfunc\u001b[0m\u001b[0;34m(\u001b[0m\u001b[0;34m)\u001b[0m\u001b[0;34m\u001b[0m\u001b[0;34m\u001b[0m\u001b[0m\n\u001b[0m",
      "\u001b[0;32m/tmp/ipykernel_9214/3014412257.py\u001b[0m in \u001b[0;36mfunc\u001b[0;34m()\u001b[0m\n\u001b[1;32m      1\u001b[0m \u001b[0;32mdef\u001b[0m \u001b[0mfunc\u001b[0m\u001b[0;34m(\u001b[0m\u001b[0;34m)\u001b[0m\u001b[0;34m:\u001b[0m\u001b[0;34m\u001b[0m\u001b[0;34m\u001b[0m\u001b[0m\n\u001b[0;32m----> 2\u001b[0;31m     \u001b[0;32mraise\u001b[0m \u001b[0mNameError\u001b[0m\u001b[0;34m(\u001b[0m\u001b[0;34m'strange name'\u001b[0m\u001b[0;34m)\u001b[0m\u001b[0;34m\u001b[0m\u001b[0;34m\u001b[0m\u001b[0m\n\u001b[0m\u001b[1;32m      3\u001b[0m \u001b[0;34m\u001b[0m\u001b[0m\n\u001b[1;32m      4\u001b[0m \u001b[0mfunc\u001b[0m\u001b[0;34m(\u001b[0m\u001b[0;34m)\u001b[0m\u001b[0;34m\u001b[0m\u001b[0;34m\u001b[0m\u001b[0m\n",
      "\u001b[0;31mNameError\u001b[0m: strange name"
     ]
    }
   ],
   "source": [
    "def func():\n",
    "    raise NameError('strange name')\n",
    "\n",
    "func()\n"
   ]
  },
  {
   "cell_type": "code",
   "execution_count": null,
   "metadata": {},
   "outputs": [],
   "source": [
    "import logging\n",
    "class OptunaTuner:\n",
    "    def __init__(\n",
    "        self,\n",
    "        eval_metric,\n",
    "        init_params={},\n",
    "        vevrbose=True,\n",
    "        n_jobs=-1,\n",
    "        randoma_state=42,\n",
    "        ):\n",
    "        if eval_metric.name not in [          \n",
    "            \"auc\",\n",
    "            \"logloss\",\n",
    "            \"rmse\",\n",
    "            \"mse\",\n",
    "            \"mae\",\n",
    "            \"mape\",\n",
    "            \"r2\",\n",
    "            \"spearman\",\n",
    "            \"pearson\",\n",
    "            \"f1\",\n",
    "            \"average_precision\",\n",
    "            \"accuracy\",\n",
    "            \"user_defined_metric\"\n",
    "            ]:\n",
    "            raise NameError(f\"Metric {eval_metric.name} is not supported\")\n",
    "        \n",
    "        "
   ]
  },
  {
   "cell_type": "code",
   "execution_count": null,
   "metadata": {},
   "outputs": [],
   "source": []
  },
  {
   "cell_type": "code",
   "execution_count": null,
   "metadata": {},
   "outputs": [],
   "source": []
  },
  {
   "cell_type": "code",
   "execution_count": 4,
   "metadata": {},
   "outputs": [
    {
     "output_type": "error",
     "ename": "NameError",
     "evalue": "name 'RandomSampler' is not defined",
     "traceback": [
      "\u001b[0;31m---------------------------------------------------------------------------\u001b[0m",
      "\u001b[0;31mNameError\u001b[0m                                 Traceback (most recent call last)",
      "\u001b[0;32m/tmp/ipykernel_4198/3636508299.py\u001b[0m in \u001b[0;36m<module>\u001b[0;34m\u001b[0m\n\u001b[1;32m      1\u001b[0m \u001b[0;31m# задаем новое стартовое значение генератора псевдослучайных чисел\u001b[0m\u001b[0;34m\u001b[0m\u001b[0;34m\u001b[0m\u001b[0;34m\u001b[0m\u001b[0m\n\u001b[0;32m----> 2\u001b[0;31m \u001b[0msampl\u001b[0m \u001b[0;34m=\u001b[0m \u001b[0mRandomSampler\u001b[0m\u001b[0;34m(\u001b[0m\u001b[0mseed\u001b[0m\u001b[0;34m=\u001b[0m\u001b[0;36m10\u001b[0m\u001b[0;34m)\u001b[0m\u001b[0;34m\u001b[0m\u001b[0;34m\u001b[0m\u001b[0m\n\u001b[0m\u001b[1;32m      3\u001b[0m \u001b[0;31m# создаем задачу оптимизации\u001b[0m\u001b[0;34m\u001b[0m\u001b[0;34m\u001b[0m\u001b[0;34m\u001b[0m\u001b[0m\n\u001b[1;32m      4\u001b[0m \u001b[0mstudy\u001b[0m \u001b[0;34m=\u001b[0m \u001b[0moptuna\u001b[0m\u001b[0;34m.\u001b[0m\u001b[0mcreate_study\u001b[0m\u001b[0;34m(\u001b[0m\u001b[0msampler\u001b[0m\u001b[0;34m=\u001b[0m\u001b[0msampl\u001b[0m\u001b[0;34m,\u001b[0m \u001b[0mdirection\u001b[0m\u001b[0;34m=\u001b[0m\u001b[0;34m'maximize'\u001b[0m\u001b[0;34m)\u001b[0m\u001b[0;34m\u001b[0m\u001b[0;34m\u001b[0m\u001b[0m\n\u001b[1;32m      5\u001b[0m \u001b[0;31m# отключаем вывод результатов оптимизации в режиме реального времени\u001b[0m\u001b[0;34m\u001b[0m\u001b[0;34m\u001b[0m\u001b[0;34m\u001b[0m\u001b[0m\n",
      "\u001b[0;31mNameError\u001b[0m: name 'RandomSampler' is not defined"
     ]
    }
   ],
   "source": [
    "# задаем новое стартовое значение генератора псевдослучайных чисел\n",
    "sampl = RandomSampler(seed=10)\n",
    "# создаем задачу оптимизации\n",
    "study = optuna.create_study(sampler=sampl, direction='maximize')\n",
    "# отключаем вывод результатов оптимизации в режиме реального времени\n",
    "optuna.logging.disable_default_handler()\n",
    "# выполняем оптимизацию\n",
    "study.optimize(objective, n_trials=100)"
   ]
  },
  {
   "cell_type": "code",
   "execution_count": null,
   "metadata": {},
   "outputs": [],
   "source": []
  },
  {
   "cell_type": "code",
   "execution_count": 8,
   "metadata": {},
   "outputs": [
    {
     "output_type": "error",
     "ename": "NameError",
     "evalue": "name 'RANDOM_STATE' is not defined",
     "traceback": [
      "\u001b[0;31m---------------------------------------------------------------------------\u001b[0m",
      "\u001b[0;31mNameError\u001b[0m                                 Traceback (most recent call last)",
      "\u001b[0;32m/tmp/ipykernel_29449/949670187.py\u001b[0m in \u001b[0;36m<module>\u001b[0;34m\u001b[0m\n\u001b[1;32m     10\u001b[0m pipe = Pipeline([\n\u001b[1;32m     11\u001b[0m     \u001b[0;34m(\u001b[0m\u001b[0;34m'preprocess'\u001b[0m\u001b[0;34m,\u001b[0m \u001b[0mpreprocessor\u001b[0m\u001b[0;34m)\u001b[0m\u001b[0;34m,\u001b[0m\u001b[0;34m\u001b[0m\u001b[0;34m\u001b[0m\u001b[0m\n\u001b[0;32m---> 12\u001b[0;31m     \u001b[0;34m(\u001b[0m\u001b[0;34m'clf'\u001b[0m\u001b[0;34m,\u001b[0m \u001b[0mLGBMRegressor\u001b[0m\u001b[0;34m(\u001b[0m\u001b[0mrandom_state\u001b[0m\u001b[0;34m=\u001b[0m\u001b[0mRANDOM_STATE\u001b[0m\u001b[0;34m)\u001b[0m\u001b[0;34m)\u001b[0m\u001b[0;34m\u001b[0m\u001b[0;34m\u001b[0m\u001b[0m\n\u001b[0m\u001b[1;32m     13\u001b[0m ])\n\u001b[1;32m     14\u001b[0m \u001b[0;34m\u001b[0m\u001b[0m\n",
      "\u001b[0;31mNameError\u001b[0m: name 'RANDOM_STATE' is not defined"
     ]
    }
   ],
   "source": [
    "num_cols = X_train.filter(regex='_').columns.tolist()\n",
    "num_transformer = Pipeline([\n",
    "    ('identity', FunctionTransformer(lambda x: x))\n",
    "])\n",
    "\n",
    "preprocessor = ColumnTransformer([\n",
    "    ('num', num_transformer, num_cols)\n",
    "])\n",
    "\n",
    "pipe = Pipeline([\n",
    "    ('preprocess', preprocessor),\n",
    "    ('clf', LGBMRegressor(random_state=RANDOM_STATE))\n",
    "])\n",
    "\n",
    "cv = KFold(n_splits=3, shuffle=True, random_state=RANDOM_STATE)\n",
    "\n",
    "param_grid = {\n",
    "    'clf__num_leaves': [31], \n",
    "    'clf__max_depth': [-1]\n",
    "}\n",
    "\n",
    "grid_search = GridSearchCV(pipe, param_grid, \n",
    "                           scoring='neg_root_mean_squared_error', n_jobs=1, \n",
    "                           cv=cv, verbose=2)\n",
    "grid_search.fit(X_train, y_train)\n",
    "\n",
    "grid_search.best_score_"
   ]
  },
  {
   "cell_type": "code",
   "execution_count": null,
   "metadata": {},
   "outputs": [],
   "source": []
  }
 ]
}