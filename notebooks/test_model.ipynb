{
 "metadata": {
  "language_info": {
   "codemirror_mode": {
    "name": "ipython",
    "version": 3
   },
   "file_extension": ".py",
   "mimetype": "text/x-python",
   "name": "python",
   "nbconvert_exporter": "python",
   "pygments_lexer": "ipython3",
   "version": "3.9.6"
  },
  "orig_nbformat": 4,
  "kernelspec": {
   "name": "python3",
   "display_name": "Python 3.9.6 64-bit ('password_comp': pyenv)"
  },
  "interpreter": {
   "hash": "1046a3745d5d25f8151bcd194784bdfcfb088ed10efe75dc18a320f117bc9e52"
  }
 },
 "nbformat": 4,
 "nbformat_minor": 2,
 "cells": [
  {
   "cell_type": "code",
   "execution_count": 3,
   "metadata": {},
   "outputs": [],
   "source": [
    "import pandas as pd\n",
    "import numpy as np \n",
    "import optuna\n",
    "import os\n",
    "from pathlib import Path"
   ]
  },
  {
   "cell_type": "code",
   "execution_count": 6,
   "metadata": {},
   "outputs": [
    {
     "output_type": "execute_result",
     "data": {
      "text/plain": [
       "PosixPath('None')"
      ]
     },
     "metadata": {},
     "execution_count": 6
    }
   ],
   "source": [
    "CONFIG_PATH = Path(str(os.environ.get('CONFIG_PATH.yaml')))\n",
    "CONFIG_PATH"
   ]
  },
  {
   "cell_type": "code",
   "execution_count": 10,
   "metadata": {},
   "outputs": [
    {
     "output_type": "error",
     "ename": "KeyError",
     "evalue": "'password_comp'",
     "traceback": [
      "\u001b[0;31m---------------------------------------------------------------------------\u001b[0m",
      "\u001b[0;31mKeyError\u001b[0m                                  Traceback (most recent call last)",
      "\u001b[0;32m/tmp/ipykernel_20985/810453418.py\u001b[0m in \u001b[0;36m<module>\u001b[0;34m\u001b[0m\n\u001b[0;32m----> 1\u001b[0;31m \u001b[0mos\u001b[0m\u001b[0;34m.\u001b[0m\u001b[0menviron\u001b[0m\u001b[0;34m[\u001b[0m\u001b[0;34m'password_comp'\u001b[0m\u001b[0;34m]\u001b[0m\u001b[0;34m\u001b[0m\u001b[0;34m\u001b[0m\u001b[0m\n\u001b[0m",
      "\u001b[0;32m~/.pyenv/versions/3.9.6/lib/python3.9/os.py\u001b[0m in \u001b[0;36m__getitem__\u001b[0;34m(self, key)\u001b[0m\n\u001b[1;32m    677\u001b[0m         \u001b[0;32mexcept\u001b[0m \u001b[0mKeyError\u001b[0m\u001b[0;34m:\u001b[0m\u001b[0;34m\u001b[0m\u001b[0;34m\u001b[0m\u001b[0m\n\u001b[1;32m    678\u001b[0m             \u001b[0;31m# raise KeyError with the original key value\u001b[0m\u001b[0;34m\u001b[0m\u001b[0;34m\u001b[0m\u001b[0;34m\u001b[0m\u001b[0m\n\u001b[0;32m--> 679\u001b[0;31m             \u001b[0;32mraise\u001b[0m \u001b[0mKeyError\u001b[0m\u001b[0;34m(\u001b[0m\u001b[0mkey\u001b[0m\u001b[0;34m)\u001b[0m \u001b[0;32mfrom\u001b[0m \u001b[0;32mNone\u001b[0m\u001b[0;34m\u001b[0m\u001b[0;34m\u001b[0m\u001b[0m\n\u001b[0m\u001b[1;32m    680\u001b[0m         \u001b[0;32mreturn\u001b[0m \u001b[0mself\u001b[0m\u001b[0;34m.\u001b[0m\u001b[0mdecodevalue\u001b[0m\u001b[0;34m(\u001b[0m\u001b[0mvalue\u001b[0m\u001b[0;34m)\u001b[0m\u001b[0;34m\u001b[0m\u001b[0;34m\u001b[0m\u001b[0m\n\u001b[1;32m    681\u001b[0m \u001b[0;34m\u001b[0m\u001b[0m\n",
      "\u001b[0;31mKeyError\u001b[0m: 'password_comp'"
     ]
    }
   ],
   "source": [
    "os.environ['password_comp']"
   ]
  },
  {
   "cell_type": "code",
   "execution_count": 11,
   "metadata": {},
   "outputs": [
    {
     "output_type": "execute_result",
     "data": {
      "text/plain": [
       "environ{'SHELL': '/bin/bash',\n",
       "        'SESSION_MANAGER': 'local/nikita-Inspiron-5559:@/tmp/.ICE-unix/1359,unix/nikita-Inspiron-5559:/tmp/.ICE-unix/1359',\n",
       "        'QT_ACCESSIBILITY': '1',\n",
       "        'SNAP_REVISION': '72',\n",
       "        'VSCODE_VERBOSE_LOGGING': 'true',\n",
       "        'PYENV_SHELL': 'bash',\n",
       "        'XDG_CONFIG_DIRS': '/etc/xdg/xdg-ubuntu:/etc/xdg',\n",
       "        'PYTHONUNBUFFERED': '1',\n",
       "        'XDG_MENU_PREFIX': 'gnome-',\n",
       "        'GNOME_DESKTOP_SESSION_ID': 'this-is-deprecated',\n",
       "        'APPLICATION_INSIGHTS_NO_DIAGNOSTIC_CHANNEL': 'true',\n",
       "        'VSCODE_LOG_STACK': 'false',\n",
       "        'SNAP_REAL_HOME': '/home/nikita',\n",
       "        'SNAP_USER_COMMON': '/home/nikita/snap/code/common',\n",
       "        'LC_ADDRESS': 'ru_RU.UTF-8',\n",
       "        'GNOME_SHELL_SESSION_MODE': 'ubuntu',\n",
       "        'LC_NAME': 'ru_RU.UTF-8',\n",
       "        'SSH_AUTH_SOCK': '/run/user/1000/keyring/ssh',\n",
       "        'BREAKPAD_DUMP_LOCATION': '/home/nikita/.config/Code/exthost Crash Reports',\n",
       "        'VSCODE_BROWSER_CODE_LOADING': 'bypassHeatCheck',\n",
       "        'SNAP_INSTANCE_KEY': '',\n",
       "        'ELECTRON_RUN_AS_NODE': '1',\n",
       "        'XMODIFIERS': '@im=ibus',\n",
       "        'DESKTOP_SESSION': 'ubuntu',\n",
       "        'VSCODE_PIPE_LOGGING': 'true',\n",
       "        'LC_MONETARY': 'ru_RU.UTF-8',\n",
       "        'SSH_AGENT_PID': '1317',\n",
       "        'GDK_PIXBUF_MODULE_FILE': '/home/nikita/snap/code/common/.cache/gdk-pixbuf-loaders.cache',\n",
       "        'BAMF_DESKTOP_FILE_HINT': '/var/lib/snapd/desktop/applications/code_code.desktop',\n",
       "        'VSCODE_AMD_ENTRYPOINT': 'vs/workbench/services/extensions/node/extensionHostProcess',\n",
       "        'GTK_MODULES': 'gail:atk-bridge',\n",
       "        'PWD': '/home/nikita',\n",
       "        'PYENV_VIRTUALENV_INIT': '1',\n",
       "        'GSETTINGS_SCHEMA_DIR': '/snap/code/72/usr/share/glib-2.0/schemas',\n",
       "        'XDG_SESSION_DESKTOP': 'ubuntu',\n",
       "        'LOGNAME': 'nikita',\n",
       "        'XDG_SESSION_TYPE': 'x11',\n",
       "        'GPG_AGENT_INFO': '/run/user/1000/gnupg/S.gpg-agent:0:1',\n",
       "        'VSCODE_CODE_CACHE_PATH': '/home/nikita/.config/Code/CachedData/3866c3553be8b268c8a7f8c0482c0c0177aa8bfa',\n",
       "        'XAUTHORITY': '/run/user/1000/gdm/Xauthority',\n",
       "        'SNAP_CONTEXT': 'la4bmHOITDqVtrVyrIeStWQtny75Te5zNFVf2FIqu5x3T_4gimxg',\n",
       "        'GJS_DEBUG_TOPICS': 'JS ERROR;JS LOG',\n",
       "        'WINDOWPATH': '2',\n",
       "        'HOME': '/home/nikita',\n",
       "        'USERNAME': 'nikita',\n",
       "        'IM_CONFIG_PHASE': '1',\n",
       "        'LC_PAPER': 'ru_RU.UTF-8',\n",
       "        'LANG': 'en_US.UTF-8',\n",
       "        'VSCODE_IPC_HOOK_EXTHOST': '/run/user/1000/vscode-ipc-8d2a8d42-35d9-41b1-8b47-b4f17a048b6a.sock',\n",
       "        'LS_COLORS': '',\n",
       "        'XDG_CURRENT_DESKTOP': 'Unity',\n",
       "        'VIRTUAL_ENV': '/home/nikita/.pyenv/versions/3.9.6/envs/password_comp',\n",
       "        'VSCODE_IPC_HOOK': '/run/user/1000/vscode-72effc6c-1.59.1-main.sock',\n",
       "        'SNAP_ARCH': 'amd64',\n",
       "        'SNAP_INSTANCE_NAME': 'code',\n",
       "        'SNAP_USER_DATA': '/home/nikita/snap/code/72',\n",
       "        'VSCODE_CLI': '1',\n",
       "        'DISABLE_WAYLAND': '1',\n",
       "        'INVOCATION_ID': '84143df6c209447bae57c3bab82128bb',\n",
       "        'MANAGERPID': '1041',\n",
       "        'SNAP_REEXEC': '',\n",
       "        'CHROME_DESKTOP': 'code-url-handler.desktop',\n",
       "        'GJS_DEBUG_OUTPUT': 'stderr',\n",
       "        'LESSCLOSE': '/usr/bin/lesspipe %s %s',\n",
       "        'XDG_SESSION_CLASS': 'user',\n",
       "        'LC_IDENTIFICATION': 'ru_RU.UTF-8',\n",
       "        'LESSOPEN': '| /usr/bin/lesspipe %s',\n",
       "        'USER': 'nikita',\n",
       "        'PYTHONIOENCODING': 'utf-8',\n",
       "        'SNAP': '/snap/code/72',\n",
       "        'SNAP_COMMON': '/var/snap/code/common',\n",
       "        'SNAP_VERSION': '3866c355',\n",
       "        'DISPLAY': ':0',\n",
       "        'VSCODE_PID': '3328',\n",
       "        'SHLVL': '0',\n",
       "        'GDK_PIXBUF_MODULEDIR': '/snap/code/72/usr/lib/x86_64-linux-gnu/gdk-pixbuf-2.0/2.10.0/loaders',\n",
       "        'SNAP_LIBRARY_PATH': '/var/lib/snapd/lib/gl:/var/lib/snapd/lib/gl32:/var/lib/snapd/void',\n",
       "        'SNAP_COOKIE': 'la4bmHOITDqVtrVyrIeStWQtny75Te5zNFVf2FIqu5x3T_4gimxg',\n",
       "        'LC_TELEPHONE': 'ru_RU.UTF-8',\n",
       "        'QT_IM_MODULE': 'ibus',\n",
       "        'LC_MEASUREMENT': 'ru_RU.UTF-8',\n",
       "        'VSCODE_CWD': '/home/nikita',\n",
       "        'SNAP_DATA': '/var/snap/code/72',\n",
       "        'XDG_RUNTIME_DIR': '/run/user/1000',\n",
       "        'PS1': '(password_comp) ',\n",
       "        'VSCODE_CRASH_REPORTER_START_OPTIONS': '{\"companyName\":\"Microsoft\",\"productName\":\"VSCode\",\"submitURL\":\"appcenter://code?aid=fba07a4d-84bd-4fc8-a125-9640fc8ce171&uid=6b56b7f3-63f7-4602-a7bd-30584a1c98d1&iid=6b56b7f3-63f7-4602-a7bd-30584a1c98d1&sid=6b56b7f3-63f7-4602-a7bd-30584a1c98d1\",\"uploadToServer\":true}',\n",
       "        'LC_TIME': 'ru_RU.UTF-8',\n",
       "        'SNAP_NAME': 'code',\n",
       "        'ELECTRON_NO_ATTACH_CONSOLE': '1',\n",
       "        'JOURNAL_STREAM': '8:40649',\n",
       "        'XDG_DATA_DIRS': '/usr/share/ubuntu:/usr/local/share/:/usr/share/:/var/lib/snapd/desktop',\n",
       "        'GDK_BACKEND': 'x11',\n",
       "        'PATH': '/home/nikita/.pyenv/versions/3.9.6/envs/password_comp/bin:/home/nikita/.poetry/bin:/home/nikita/.local/bin:/home/nikita/.pyenv/plugins/pyenv-virtualenv/shims:/home/nikita/.pyenv/bin:/home/nikita/.poetry/bin:/home/nikita/.local/bin:/usr/local/sbin:/usr/local/bin:/usr/sbin:/usr/bin:/sbin:/bin:/usr/games:/usr/local/games:/snap/bin',\n",
       "        'GDMSESSION': 'ubuntu',\n",
       "        'ORIGINAL_XDG_CURRENT_DESKTOP': 'ubuntu:GNOME',\n",
       "        'DBUS_SESSION_BUS_ADDRESS': 'unix:path=/run/user/1000/bus',\n",
       "        'VSCODE_NLS_CONFIG': '{\"locale\":\"en-us\",\"availableLanguages\":{},\"_languagePackSupport\":true}',\n",
       "        'VSCODE_LOG_NATIVE': 'false',\n",
       "        'GIO_LAUNCHED_DESKTOP_FILE_PID': '3164',\n",
       "        'GIO_LAUNCHED_DESKTOP_FILE': '/var/lib/snapd/desktop/applications/code_code.desktop',\n",
       "        'VSCODE_HANDLES_UNCAUGHT_ERRORS': 'true',\n",
       "        'LC_NUMERIC': 'ru_RU.UTF-8',\n",
       "        '_': '/home/nikita/.pyenv/versions/3.9.6/envs/password_comp/bin/python',\n",
       "        'PYTHONPATH': '/home/nikita/.vscode/extensions/ms-toolsai.jupyter-2021.8.1236758218/pythonFiles:/home/nikita/.vscode/extensions/ms-toolsai.jupyter-2021.8.1236758218/pythonFiles/lib/python',\n",
       "        'JPY_PARENT_PID': '18418',\n",
       "        'TERM': 'xterm-color',\n",
       "        'CLICOLOR': '1',\n",
       "        'PAGER': 'cat',\n",
       "        'GIT_PAGER': 'cat',\n",
       "        'MPLBACKEND': 'module://matplotlib_inline.backend_inline',\n",
       "        'KMP_DUPLICATE_LIB_OK': 'True',\n",
       "        'KMP_INIT_AT_FORK': 'FALSE'}"
      ]
     },
     "metadata": {},
     "execution_count": 11
    }
   ],
   "source": [
    "os.environ"
   ]
  },
  {
   "cell_type": "code",
   "execution_count": 13,
   "metadata": {},
   "outputs": [
    {
     "output_type": "stream",
     "name": "stdout",
     "text": [
      "None\n"
     ]
    }
   ],
   "source": [
    "print(os.environ.get('password_comp'))\n"
   ]
  },
  {
   "cell_type": "code",
   "execution_count": null,
   "metadata": {},
   "outputs": [],
   "source": []
  }
 ]
}